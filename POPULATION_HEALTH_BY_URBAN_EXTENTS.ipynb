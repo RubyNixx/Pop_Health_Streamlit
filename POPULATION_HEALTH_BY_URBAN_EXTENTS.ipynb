{
  "cells": [
    {
      "cell_type": "markdown",
      "metadata": {
        "id": "view-in-github",
        "colab_type": "text"
      },
      "source": [
        "<a href=\"https://colab.research.google.com/github/RubyNixx/Pop_Health_Streamlit/blob/main/POPULATION_HEALTH_BY_URBAN_EXTENTS.ipynb\" target=\"_parent\"><img src=\"https://colab.research.google.com/assets/colab-badge.svg\" alt=\"Open In Colab\"/></a>"
      ]
    },
    {
      "cell_type": "markdown",
      "id": "e7eaec71-9424-4195-9d39-8de63fb94cde",
      "metadata": {
        "collapsed": false,
        "name": "heading",
        "id": "e7eaec71-9424-4195-9d39-8de63fb94cde"
      },
      "source": [
        "# POPULATION HEALTH BY URBAN EXTENTS\n",
        "Population health based on synthetic data, visualised using a streamlit python application.\n",
        "\n",
        "You will need to upload 2 CSV files, provided in the GitHub Repo."
      ]
    },
    {
      "cell_type": "code",
      "execution_count": 16,
      "id": "3775908f-ca36-4846-8f38-5adca39217f2",
      "metadata": {
        "language": "python",
        "name": "import_libaries",
        "colab": {
          "base_uri": "https://localhost:8080/"
        },
        "id": "3775908f-ca36-4846-8f38-5adca39217f2",
        "outputId": "7d700e0b-0e5e-4c87-f844-ac0f75cb583f"
      },
      "outputs": [
        {
          "output_type": "stream",
          "name": "stdout",
          "text": [
            "Requirement already satisfied: streamlit in /usr/local/lib/python3.11/dist-packages (1.45.1)\n",
            "Requirement already satisfied: altair<6,>=4.0 in /usr/local/lib/python3.11/dist-packages (from streamlit) (5.5.0)\n",
            "Requirement already satisfied: blinker<2,>=1.5.0 in /usr/local/lib/python3.11/dist-packages (from streamlit) (1.9.0)\n",
            "Requirement already satisfied: cachetools<6,>=4.0 in /usr/local/lib/python3.11/dist-packages (from streamlit) (5.5.2)\n",
            "Requirement already satisfied: click<9,>=7.0 in /usr/local/lib/python3.11/dist-packages (from streamlit) (8.2.0)\n",
            "Requirement already satisfied: numpy<3,>=1.23 in /usr/local/lib/python3.11/dist-packages (from streamlit) (2.0.2)\n",
            "Requirement already satisfied: packaging<25,>=20 in /usr/local/lib/python3.11/dist-packages (from streamlit) (24.2)\n",
            "Requirement already satisfied: pandas<3,>=1.4.0 in /usr/local/lib/python3.11/dist-packages (from streamlit) (2.2.2)\n",
            "Requirement already satisfied: pillow<12,>=7.1.0 in /usr/local/lib/python3.11/dist-packages (from streamlit) (11.2.1)\n",
            "Requirement already satisfied: protobuf<7,>=3.20 in /usr/local/lib/python3.11/dist-packages (from streamlit) (5.29.4)\n",
            "Requirement already satisfied: pyarrow>=7.0 in /usr/local/lib/python3.11/dist-packages (from streamlit) (18.1.0)\n",
            "Requirement already satisfied: requests<3,>=2.27 in /usr/local/lib/python3.11/dist-packages (from streamlit) (2.32.3)\n",
            "Requirement already satisfied: tenacity<10,>=8.1.0 in /usr/local/lib/python3.11/dist-packages (from streamlit) (9.1.2)\n",
            "Requirement already satisfied: toml<2,>=0.10.1 in /usr/local/lib/python3.11/dist-packages (from streamlit) (0.10.2)\n",
            "Requirement already satisfied: typing-extensions<5,>=4.4.0 in /usr/local/lib/python3.11/dist-packages (from streamlit) (4.13.2)\n",
            "Requirement already satisfied: watchdog<7,>=2.1.5 in /usr/local/lib/python3.11/dist-packages (from streamlit) (6.0.0)\n",
            "Requirement already satisfied: gitpython!=3.1.19,<4,>=3.0.7 in /usr/local/lib/python3.11/dist-packages (from streamlit) (3.1.44)\n",
            "Requirement already satisfied: pydeck<1,>=0.8.0b4 in /usr/local/lib/python3.11/dist-packages (from streamlit) (0.9.1)\n",
            "Requirement already satisfied: tornado<7,>=6.0.3 in /usr/local/lib/python3.11/dist-packages (from streamlit) (6.4.2)\n",
            "Requirement already satisfied: jinja2 in /usr/local/lib/python3.11/dist-packages (from altair<6,>=4.0->streamlit) (3.1.6)\n",
            "Requirement already satisfied: jsonschema>=3.0 in /usr/local/lib/python3.11/dist-packages (from altair<6,>=4.0->streamlit) (4.23.0)\n",
            "Requirement already satisfied: narwhals>=1.14.2 in /usr/local/lib/python3.11/dist-packages (from altair<6,>=4.0->streamlit) (1.39.0)\n",
            "Requirement already satisfied: gitdb<5,>=4.0.1 in /usr/local/lib/python3.11/dist-packages (from gitpython!=3.1.19,<4,>=3.0.7->streamlit) (4.0.12)\n",
            "Requirement already satisfied: python-dateutil>=2.8.2 in /usr/local/lib/python3.11/dist-packages (from pandas<3,>=1.4.0->streamlit) (2.9.0.post0)\n",
            "Requirement already satisfied: pytz>=2020.1 in /usr/local/lib/python3.11/dist-packages (from pandas<3,>=1.4.0->streamlit) (2025.2)\n",
            "Requirement already satisfied: tzdata>=2022.7 in /usr/local/lib/python3.11/dist-packages (from pandas<3,>=1.4.0->streamlit) (2025.2)\n",
            "Requirement already satisfied: charset-normalizer<4,>=2 in /usr/local/lib/python3.11/dist-packages (from requests<3,>=2.27->streamlit) (3.4.2)\n",
            "Requirement already satisfied: idna<4,>=2.5 in /usr/local/lib/python3.11/dist-packages (from requests<3,>=2.27->streamlit) (3.10)\n",
            "Requirement already satisfied: urllib3<3,>=1.21.1 in /usr/local/lib/python3.11/dist-packages (from requests<3,>=2.27->streamlit) (2.4.0)\n",
            "Requirement already satisfied: certifi>=2017.4.17 in /usr/local/lib/python3.11/dist-packages (from requests<3,>=2.27->streamlit) (2025.4.26)\n",
            "Requirement already satisfied: smmap<6,>=3.0.1 in /usr/local/lib/python3.11/dist-packages (from gitdb<5,>=4.0.1->gitpython!=3.1.19,<4,>=3.0.7->streamlit) (5.0.2)\n",
            "Requirement already satisfied: MarkupSafe>=2.0 in /usr/local/lib/python3.11/dist-packages (from jinja2->altair<6,>=4.0->streamlit) (3.0.2)\n",
            "Requirement already satisfied: attrs>=22.2.0 in /usr/local/lib/python3.11/dist-packages (from jsonschema>=3.0->altair<6,>=4.0->streamlit) (25.3.0)\n",
            "Requirement already satisfied: jsonschema-specifications>=2023.03.6 in /usr/local/lib/python3.11/dist-packages (from jsonschema>=3.0->altair<6,>=4.0->streamlit) (2025.4.1)\n",
            "Requirement already satisfied: referencing>=0.28.4 in /usr/local/lib/python3.11/dist-packages (from jsonschema>=3.0->altair<6,>=4.0->streamlit) (0.36.2)\n",
            "Requirement already satisfied: rpds-py>=0.7.1 in /usr/local/lib/python3.11/dist-packages (from jsonschema>=3.0->altair<6,>=4.0->streamlit) (0.24.0)\n",
            "Requirement already satisfied: six>=1.5 in /usr/local/lib/python3.11/dist-packages (from python-dateutil>=2.8.2->pandas<3,>=1.4.0->streamlit) (1.17.0)\n",
            "Requirement already satisfied: h3 in /usr/local/lib/python3.11/dist-packages (4.2.2)\n"
          ]
        }
      ],
      "source": [
        "# Import python packages\n",
        "!pip install streamlit pydeck h3 shapely\n",
        "\n",
        "import pandas as pd\n",
        "import h3\n",
        "import pydeck as pdk\n",
        "import streamlit as st\n",
        "import json\n",
        "from h3 import LatLngPoly, LatLngMultiPoly"
      ]
    },
    {
      "cell_type": "markdown",
      "id": "f628caf8-9041-4fdb-af26-a1fac46e3dc6",
      "metadata": {
        "collapsed": false,
        "name": "heading_curation",
        "id": "f628caf8-9041-4fdb-af26-a1fac46e3dc6"
      },
      "source": [
        "## Curating the data"
      ]
    },
    {
      "cell_type": "markdown",
      "id": "667a559c-ea36-4fa3-951a-b052022d67be",
      "metadata": {
        "collapsed": false,
        "name": "instructions_data_selection",
        "id": "667a559c-ea36-4fa3-951a-b052022d67be"
      },
      "source": [
        "Firstly get the data - we are going to focus on the location, the Gender, the body weight and finally each morbidity."
      ]
    },
    {
      "cell_type": "code",
      "execution_count": 13,
      "id": "734f85b2-79f7-47a7-887a-8e2d536abd11",
      "metadata": {
        "language": "python",
        "name": "get_pop_health_dataset",
        "colab": {
          "base_uri": "https://localhost:8080/",
          "height": 147
        },
        "id": "734f85b2-79f7-47a7-887a-8e2d536abd11",
        "outputId": "1748bf1d-c941-48c7-d735-493df2eb0e0b"
      },
      "outputs": [
        {
          "output_type": "display_data",
          "data": {
            "text/plain": [
              "<IPython.core.display.HTML object>"
            ],
            "text/html": [
              "\n",
              "     <input type=\"file\" id=\"files-6a317a6a-0d92-4a24-90aa-b2026e6014c6\" name=\"files[]\" multiple disabled\n",
              "        style=\"border:none\" />\n",
              "     <output id=\"result-6a317a6a-0d92-4a24-90aa-b2026e6014c6\">\n",
              "      Upload widget is only available when the cell has been executed in the\n",
              "      current browser session. Please rerun this cell to enable.\n",
              "      </output>\n",
              "      <script>// Copyright 2017 Google LLC\n",
              "//\n",
              "// Licensed under the Apache License, Version 2.0 (the \"License\");\n",
              "// you may not use this file except in compliance with the License.\n",
              "// You may obtain a copy of the License at\n",
              "//\n",
              "//      http://www.apache.org/licenses/LICENSE-2.0\n",
              "//\n",
              "// Unless required by applicable law or agreed to in writing, software\n",
              "// distributed under the License is distributed on an \"AS IS\" BASIS,\n",
              "// WITHOUT WARRANTIES OR CONDITIONS OF ANY KIND, either express or implied.\n",
              "// See the License for the specific language governing permissions and\n",
              "// limitations under the License.\n",
              "\n",
              "/**\n",
              " * @fileoverview Helpers for google.colab Python module.\n",
              " */\n",
              "(function(scope) {\n",
              "function span(text, styleAttributes = {}) {\n",
              "  const element = document.createElement('span');\n",
              "  element.textContent = text;\n",
              "  for (const key of Object.keys(styleAttributes)) {\n",
              "    element.style[key] = styleAttributes[key];\n",
              "  }\n",
              "  return element;\n",
              "}\n",
              "\n",
              "// Max number of bytes which will be uploaded at a time.\n",
              "const MAX_PAYLOAD_SIZE = 100 * 1024;\n",
              "\n",
              "function _uploadFiles(inputId, outputId) {\n",
              "  const steps = uploadFilesStep(inputId, outputId);\n",
              "  const outputElement = document.getElementById(outputId);\n",
              "  // Cache steps on the outputElement to make it available for the next call\n",
              "  // to uploadFilesContinue from Python.\n",
              "  outputElement.steps = steps;\n",
              "\n",
              "  return _uploadFilesContinue(outputId);\n",
              "}\n",
              "\n",
              "// This is roughly an async generator (not supported in the browser yet),\n",
              "// where there are multiple asynchronous steps and the Python side is going\n",
              "// to poll for completion of each step.\n",
              "// This uses a Promise to block the python side on completion of each step,\n",
              "// then passes the result of the previous step as the input to the next step.\n",
              "function _uploadFilesContinue(outputId) {\n",
              "  const outputElement = document.getElementById(outputId);\n",
              "  const steps = outputElement.steps;\n",
              "\n",
              "  const next = steps.next(outputElement.lastPromiseValue);\n",
              "  return Promise.resolve(next.value.promise).then((value) => {\n",
              "    // Cache the last promise value to make it available to the next\n",
              "    // step of the generator.\n",
              "    outputElement.lastPromiseValue = value;\n",
              "    return next.value.response;\n",
              "  });\n",
              "}\n",
              "\n",
              "/**\n",
              " * Generator function which is called between each async step of the upload\n",
              " * process.\n",
              " * @param {string} inputId Element ID of the input file picker element.\n",
              " * @param {string} outputId Element ID of the output display.\n",
              " * @return {!Iterable<!Object>} Iterable of next steps.\n",
              " */\n",
              "function* uploadFilesStep(inputId, outputId) {\n",
              "  const inputElement = document.getElementById(inputId);\n",
              "  inputElement.disabled = false;\n",
              "\n",
              "  const outputElement = document.getElementById(outputId);\n",
              "  outputElement.innerHTML = '';\n",
              "\n",
              "  const pickedPromise = new Promise((resolve) => {\n",
              "    inputElement.addEventListener('change', (e) => {\n",
              "      resolve(e.target.files);\n",
              "    });\n",
              "  });\n",
              "\n",
              "  const cancel = document.createElement('button');\n",
              "  inputElement.parentElement.appendChild(cancel);\n",
              "  cancel.textContent = 'Cancel upload';\n",
              "  const cancelPromise = new Promise((resolve) => {\n",
              "    cancel.onclick = () => {\n",
              "      resolve(null);\n",
              "    };\n",
              "  });\n",
              "\n",
              "  // Wait for the user to pick the files.\n",
              "  const files = yield {\n",
              "    promise: Promise.race([pickedPromise, cancelPromise]),\n",
              "    response: {\n",
              "      action: 'starting',\n",
              "    }\n",
              "  };\n",
              "\n",
              "  cancel.remove();\n",
              "\n",
              "  // Disable the input element since further picks are not allowed.\n",
              "  inputElement.disabled = true;\n",
              "\n",
              "  if (!files) {\n",
              "    return {\n",
              "      response: {\n",
              "        action: 'complete',\n",
              "      }\n",
              "    };\n",
              "  }\n",
              "\n",
              "  for (const file of files) {\n",
              "    const li = document.createElement('li');\n",
              "    li.append(span(file.name, {fontWeight: 'bold'}));\n",
              "    li.append(span(\n",
              "        `(${file.type || 'n/a'}) - ${file.size} bytes, ` +\n",
              "        `last modified: ${\n",
              "            file.lastModifiedDate ? file.lastModifiedDate.toLocaleDateString() :\n",
              "                                    'n/a'} - `));\n",
              "    const percent = span('0% done');\n",
              "    li.appendChild(percent);\n",
              "\n",
              "    outputElement.appendChild(li);\n",
              "\n",
              "    const fileDataPromise = new Promise((resolve) => {\n",
              "      const reader = new FileReader();\n",
              "      reader.onload = (e) => {\n",
              "        resolve(e.target.result);\n",
              "      };\n",
              "      reader.readAsArrayBuffer(file);\n",
              "    });\n",
              "    // Wait for the data to be ready.\n",
              "    let fileData = yield {\n",
              "      promise: fileDataPromise,\n",
              "      response: {\n",
              "        action: 'continue',\n",
              "      }\n",
              "    };\n",
              "\n",
              "    // Use a chunked sending to avoid message size limits. See b/62115660.\n",
              "    let position = 0;\n",
              "    do {\n",
              "      const length = Math.min(fileData.byteLength - position, MAX_PAYLOAD_SIZE);\n",
              "      const chunk = new Uint8Array(fileData, position, length);\n",
              "      position += length;\n",
              "\n",
              "      const base64 = btoa(String.fromCharCode.apply(null, chunk));\n",
              "      yield {\n",
              "        response: {\n",
              "          action: 'append',\n",
              "          file: file.name,\n",
              "          data: base64,\n",
              "        },\n",
              "      };\n",
              "\n",
              "      let percentDone = fileData.byteLength === 0 ?\n",
              "          100 :\n",
              "          Math.round((position / fileData.byteLength) * 100);\n",
              "      percent.textContent = `${percentDone}% done`;\n",
              "\n",
              "    } while (position < fileData.byteLength);\n",
              "  }\n",
              "\n",
              "  // All done.\n",
              "  yield {\n",
              "    response: {\n",
              "      action: 'complete',\n",
              "    }\n",
              "  };\n",
              "}\n",
              "\n",
              "scope.google = scope.google || {};\n",
              "scope.google.colab = scope.google.colab || {};\n",
              "scope.google.colab._files = {\n",
              "  _uploadFiles,\n",
              "  _uploadFilesContinue,\n",
              "};\n",
              "})(self);\n",
              "</script> "
            ]
          },
          "metadata": {}
        },
        {
          "output_type": "stream",
          "name": "stdout",
          "text": [
            "Saving URBAN_EXTENTS_FOR_CITIES_TOWNS_AND_VILLAGES__GREAT_BRITAIN_OPEN_BUILT_UP_AREAS.PRS_OPEN_BUILT_UP_AREAS_SCH.PRS_OPEN_BUILT_UP_AREAS_TBL.csv to URBAN_EXTENTS_FOR_CITIES_TOWNS_AND_VILLAGES__GREAT_BRITAIN_OPEN_BUILT_UP_AREAS.PRS_OPEN_BUILT_UP_AREAS_SCH.PRS_OPEN_BUILT_UP_AREAS_TBL.csv\n",
            "Saving DEFAULT_DATABASE.DEFAULT_SCHEMA.SYNTHETIC_POPULATION.csv to DEFAULT_DATABASE.DEFAULT_SCHEMA.SYNTHETIC_POPULATION (1).csv\n"
          ]
        }
      ],
      "source": [
        "from google.colab import files\n",
        "\n",
        "uploaded = files.upload()\n",
        "#UPLOAD 'DEFAULT_DATABASE.DEFAULT_SCHEMA.SYNTHETIC_POPULATION'\n"
      ]
    },
    {
      "cell_type": "code",
      "source": [
        "# Load Data\n",
        "population_health = pd.read_csv('DEFAULT_DATABASE.DEFAULT_SCHEMA.SYNTHETIC_POPULATION.csv')\n",
        "built_up_areas = pd.read_csv('URBAN_EXTENTS_FOR_CITIES_TOWNS_AND_VILLAGES__GREAT_BRITAIN_OPEN_BUILT_UP_AREAS.PRS_OPEN_BUILT_UP_AREAS_SCH.PRS_OPEN_BUILT_UP_AREAS_TBL.csv')\n"
      ],
      "metadata": {
        "id": "mtAM4pzCeQ6Z"
      },
      "id": "mtAM4pzCeQ6Z",
      "execution_count": 32,
      "outputs": []
    },
    {
      "cell_type": "markdown",
      "source": [
        "# EDA"
      ],
      "metadata": {
        "id": "b7PYwwvrnExi"
      },
      "id": "b7PYwwvrnExi"
    },
    {
      "cell_type": "code",
      "source": [
        "#View columns available\n",
        "population_health.columns"
      ],
      "metadata": {
        "colab": {
          "base_uri": "https://localhost:8080/"
        },
        "id": "n0UIQ_iqnGMQ",
        "outputId": "c40390d6-c2b5-4043-e161-0564a00f977c"
      },
      "id": "n0UIQ_iqnGMQ",
      "execution_count": 48,
      "outputs": [
        {
          "output_type": "execute_result",
          "data": {
            "text/plain": [
              "Index(['Unnamed: 0', 'NHS_NUMBER', 'DATE_OF_BIRTH', 'FIRST_NAME', 'LAST_NAME',\n",
              "       'HOUSEHOLD', 'AGE', 'PRACTICE_CODE', 'PRACTICE_NAME',\n",
              "       'DISTANCE_FROM_PRACTICE', 'ESTABLISHMENT_TYPE',\n",
              "       'EDUCATIONAL_ESTABLISHMENT_UPN', 'EDUCATIONAL_ESTABLISHMENT_NAME',\n",
              "       'UNI_COURSE_CODE', 'UNI_COURSE_TITLE', 'LAT', 'LON',\n",
              "       'MARITAL_STATUS_CODE', 'MARITAL_STATUS', 'GENERAL_HEALTH_CODE',\n",
              "       'GENERAL_HEALTH', 'OCCUPATION_CODE', 'OCCUPATION', 'SEX_CODE', 'SEX',\n",
              "       'HOURS_WORKED_CODE', 'HOURS_WORKED', 'ECONOMICACTIVITY_CODE',\n",
              "       'ECONOMICACTIVITY', 'HOUSEHOLD_TYPE_CODE', 'HOUSEHOLD_TYPE',\n",
              "       'ADDRESS_1', 'ADDRESS_2', 'ADDRESS_3', 'ADDRESS_4', 'ADDRESS_5',\n",
              "       'ADDRESS_6', 'YEARS_AT_ADDRESS', 'POSTCODE', 'POSTCODE_NO_SPACE',\n",
              "       'LOCAL_AUTHORITY_CODE', 'LOCAL_AUTHORITY', 'LSOA_CODE', 'ETHNICITY',\n",
              "       'CANCER', 'DIABETES', 'COPD', 'ASTHMA', 'HYPERTENSION', 'MORBILITIES',\n",
              "       'ICB22NM', 'ICB22CD', 'PCN', 'MULTIPLE_MOBILITIES', 'BODY_WEIGHT',\n",
              "       'H3'],\n",
              "      dtype='object')"
            ]
          },
          "metadata": {},
          "execution_count": 48
        }
      ]
    },
    {
      "cell_type": "code",
      "source": [
        "# Distinct values in 'MARITAL_STATUS'\n",
        "print(population_health['MARITAL_STATUS'].unique())\n",
        "\n",
        "# Distinct values in 'OCCUPATION'\n",
        "print(population_health['OCCUPATION'].unique())"
      ],
      "metadata": {
        "colab": {
          "base_uri": "https://localhost:8080/"
        },
        "id": "eb1rnlQznOrp",
        "outputId": "7be84260-7c29-4947-d563-5a3662aa6ebd"
      },
      "id": "eb1rnlQznOrp",
      "execution_count": 50,
      "outputs": [
        {
          "output_type": "stream",
          "name": "stdout",
          "text": [
            "['Single'\n",
            " 'Divorced or formerly in a same-sex civil partnership which is now legally dissolved'\n",
            " ' Married or in a same sex civil partnership'\n",
            " 'Widowed or surviving partner from same-sex civil partnership'\n",
            " 'Seperated (but still legally married or still legally in a same-sex civil partnership)'\n",
            " '<16 years old therefore ineligible to marry']\n",
            "['Administrative and secretarial occupations'\n",
            " 'Sales and customer service occupations'\n",
            " 'Managers, directors and senior officials'\n",
            " 'Associate professional and technical occupations'\n",
            " 'Skilled trades occupations' 'Process, plant and machine operatives'\n",
            " 'Professional occupations' 'Elementary occupations'\n",
            " 'Caring, Leisure and other service occupations' 'Not Working'\n",
            " '<16 years old']\n"
          ]
        }
      ]
    },
    {
      "cell_type": "code",
      "source": [
        "#Rename a column\n",
        "\n",
        "population_health = population_health.rename(columns={'MULTIPLE_MOBILITIES': 'MULTIPLE_MORBIDITIES'})\n",
        "\n",
        "print(population_health.head(5))"
      ],
      "metadata": {
        "colab": {
          "base_uri": "https://localhost:8080/"
        },
        "id": "gPNpHB04o0n6",
        "outputId": "f0092f1e-1fb1-4296-e7bd-0f1b3aabeb88"
      },
      "id": "gPNpHB04o0n6",
      "execution_count": 52,
      "outputs": [
        {
          "output_type": "stream",
          "name": "stdout",
          "text": [
            "   Unnamed: 0  NHS_NUMBER DATE_OF_BIRTH FIRST_NAME LAST_NAME  HOUSEHOLD  AGE  \\\n",
            "0           0    55984819    1976-05-21       Mary  Skerrett  H20263425   49   \n",
            "1           1    27281573    1925-05-21     Rhonda  Friedman  H20263651  100   \n",
            "2           2    28985199    1986-05-21       Gary  Montalvo  H20263613   39   \n",
            "3           3    19386361    1964-05-21       Anne     Scott  H20263478   61   \n",
            "4           4    42539555    1993-05-21      Susan  Eldridge  H20263665   32   \n",
            "\n",
            "  PRACTICE_CODE PRACTICE_NAME  DISTANCE_FROM_PRACTICE  ... COPD  ASTHMA  \\\n",
            "0        P92030   DR SEABROOK              277.614209  ...  NaN     NaN   \n",
            "1        P92030   DR SEABROOK              254.298787  ...  NaN     NaN   \n",
            "2        P92030   DR SEABROOK              258.751208  ...  NaN     NaN   \n",
            "3        P92030   DR SEABROOK              260.438865  ...  NaN     NaN   \n",
            "4        P92030   DR SEABROOK              219.516524  ...  NaN     NaN   \n",
            "\n",
            "  HYPERTENSION MORBILITIES                                       ICB22NM  \\\n",
            "0          NaN           0  NHS Greater Manchester Integrated Care Board   \n",
            "1          1.0           1  NHS Greater Manchester Integrated Care Board   \n",
            "2          NaN           0  NHS Greater Manchester Integrated Care Board   \n",
            "3          NaN           0  NHS Greater Manchester Integrated Care Board   \n",
            "4          NaN           0  NHS Greater Manchester Integrated Care Board   \n",
            "\n",
            "     ICB22CD     PCN  MULTIPLE_MORBIDITIES  BODY_WEIGHT               H3  \n",
            "0  E54000057  U42152                     0  Idealweight  881951b845fffff  \n",
            "1  E54000057  U42152                     0   Overweight  881951b845fffff  \n",
            "2  E54000057  U42152                     0  Idealweight  881951b845fffff  \n",
            "3  E54000057  U42152                     0  Underweight  881951b845fffff  \n",
            "4  E54000057  U42152                     0  Idealweight  881951b845fffff  \n",
            "\n",
            "[5 rows x 56 columns]\n"
          ]
        }
      ]
    },
    {
      "cell_type": "code",
      "source": [
        "#Show by age\n",
        "\n",
        "age_summary = (\n",
        "    population_health\n",
        "    .groupby('AGE')\n",
        "    .agg(Total_Morbidities=('MULTIPLE_MORBIDITIES', 'sum'),\n",
        "         Total_Population=('MULTIPLE_MORBIDITIES', 'count'))\n",
        "    .reset_index()\n",
        "    .sort_values('AGE')\n",
        ")\n",
        "print(age_summary)"
      ],
      "metadata": {
        "colab": {
          "base_uri": "https://localhost:8080/"
        },
        "id": "7ltY5vymo32d",
        "outputId": "62ae1729-ecfd-42f2-b393-cc4e0a0bbc47"
      },
      "id": "7ltY5vymo32d",
      "execution_count": 54,
      "outputs": [
        {
          "output_type": "stream",
          "name": "stdout",
          "text": [
            "     AGE  Total_Morbidities  Total_Population\n",
            "0      0                  3                50\n",
            "1      1                  2                28\n",
            "2      2                  2                33\n",
            "3      3                  5                31\n",
            "4      4                  1                23\n",
            "..   ...                ...               ...\n",
            "99    99                  0                 4\n",
            "100  100                  1                 6\n",
            "101  101                  0                12\n",
            "102  102                  5                10\n",
            "103  103                  1                10\n",
            "\n",
            "[104 rows x 3 columns]\n"
          ]
        }
      ]
    },
    {
      "cell_type": "code",
      "source": [
        "# Filter by AGE ≥ 5\n",
        "\n",
        "# Over 5\n",
        "population_health_over5 = population_health[population_health['AGE'] >= 5]\n",
        "\n",
        "# Under 5\n",
        "population_health_under5 = population_health[population_health['AGE'] < 5][['NHS_NUMBER','FIRST_NAME','LAST_NAME','AGE']]\n",
        "\n",
        "print(population_health_under5.head(10))\n"
      ],
      "metadata": {
        "colab": {
          "base_uri": "https://localhost:8080/"
        },
        "id": "RMzYIxpSpIwc",
        "outputId": "d886d9ff-fa04-4428-edce-7fc15776d752"
      },
      "id": "RMzYIxpSpIwc",
      "execution_count": 55,
      "outputs": [
        {
          "output_type": "stream",
          "name": "stdout",
          "text": [
            "     NHS_NUMBER FIRST_NAME   LAST_NAME  AGE\n",
            "103  9056942793       Ruth     Whitney    0\n",
            "177    25207586     Milton  Williamson    4\n",
            "255  9034823097      Graig       Davis    0\n",
            "495  9368453639   Patricia    Mckenzie    0\n",
            "496  9368453639   Patricia    Mckenzie    0\n",
            "508    18480044    Cameron       Sabin    0\n",
            "516    46202609     Edward       Ortiz    1\n",
            "527    42040243       Anna       Ortiz    0\n",
            "529     4858707    Krystal    Stephens    0\n",
            "537    34819413  Claudette    Stephens    0\n"
          ]
        }
      ]
    },
    {
      "cell_type": "code",
      "source": [
        "occupations = population_health['OCCUPATION'].dropna().unique()\n",
        "# In Streamlit:\n",
        "# selected_occupation = st.selectbox('Choose Occupation:', occupations)"
      ],
      "metadata": {
        "id": "Zj-ejQhopX2R"
      },
      "id": "Zj-ejQhopX2R",
      "execution_count": 56,
      "outputs": []
    },
    {
      "cell_type": "code",
      "source": [
        "#Filtered DataFrame by Occupation\n",
        "\n",
        "selected_occupation = occupations[0]  # Replace with user selection in Streamlit\n",
        "\n",
        "filtered_df = population_health[population_health['OCCUPATION'] == selected_occupation]\n",
        "\n",
        "print(filtered_df.head(5))"
      ],
      "metadata": {
        "colab": {
          "base_uri": "https://localhost:8080/"
        },
        "id": "7r_yx_gMpdiF",
        "outputId": "bad324db-4dc1-4804-bdc3-20a102f53d24"
      },
      "id": "7r_yx_gMpdiF",
      "execution_count": 57,
      "outputs": [
        {
          "output_type": "stream",
          "name": "stdout",
          "text": [
            "    Unnamed: 0  NHS_NUMBER DATE_OF_BIRTH FIRST_NAME  LAST_NAME  HOUSEHOLD  \\\n",
            "0            0    55984819    1976-05-21       Mary   Skerrett  H20263425   \n",
            "3            3    19386361    1964-05-21       Anne      Scott  H20263478   \n",
            "6            6    28219522    1994-05-21      Shawn   Weishaar  H20263707   \n",
            "10          10    24756033    1992-05-21    Raymond  Laliberte  H20263665   \n",
            "16          16    23068360    1968-05-21   Danielle  Pellegrin  H20263665   \n",
            "\n",
            "    AGE PRACTICE_CODE PRACTICE_NAME  DISTANCE_FROM_PRACTICE  ... COPD  ASTHMA  \\\n",
            "0    49        P92030   DR SEABROOK              277.614209  ...  NaN     NaN   \n",
            "3    61        P92030   DR SEABROOK              260.438865  ...  NaN     NaN   \n",
            "6    31        P92030   DR SEABROOK              286.628143  ...  NaN     NaN   \n",
            "10   33        P92030   DR SEABROOK              219.516524  ...  NaN     NaN   \n",
            "16   57        P92030   DR SEABROOK              219.516524  ...  NaN     NaN   \n",
            "\n",
            "   HYPERTENSION MORBILITIES                                       ICB22NM  \\\n",
            "0           NaN           0  NHS Greater Manchester Integrated Care Board   \n",
            "3           NaN           0  NHS Greater Manchester Integrated Care Board   \n",
            "6           NaN           0  NHS Greater Manchester Integrated Care Board   \n",
            "10          NaN           0  NHS Greater Manchester Integrated Care Board   \n",
            "16          NaN           0  NHS Greater Manchester Integrated Care Board   \n",
            "\n",
            "      ICB22CD     PCN  MULTIPLE_MORBIDITIES  BODY_WEIGHT               H3  \n",
            "0   E54000057  U42152                     0  Idealweight  881951b845fffff  \n",
            "3   E54000057  U42152                     0  Underweight  881951b845fffff  \n",
            "6   E54000057  U42152                     0  Idealweight  881951b845fffff  \n",
            "10  E54000057  U42152                     0   Overweight  881951b845fffff  \n",
            "16  E54000057  U42152                     0  Idealweight  881951b845fffff  \n",
            "\n",
            "[5 rows x 56 columns]\n"
          ]
        }
      ]
    },
    {
      "cell_type": "code",
      "source": [
        "#Group by marital status\n",
        "\n",
        "marital_summary = (\n",
        "    filtered_df\n",
        "    .groupby('MARITAL_STATUS')\n",
        "    .agg(\n",
        "        Multiple_Morbidities=('MULTIPLE_MORBIDITIES', 'sum'),\n",
        "        Cancer=('CANCER', 'sum'),\n",
        "        Diabetes=('DIABETES', 'sum'),\n",
        "        COPD=('COPD', 'sum'),\n",
        "        Asthma=('ASTHMA', 'sum')\n",
        "    )\n",
        "    .reset_index()\n",
        ")\n",
        "print(marital_summary)\n"
      ],
      "metadata": {
        "colab": {
          "base_uri": "https://localhost:8080/"
        },
        "id": "LvbjHJ0XpnYt",
        "outputId": "49125638-56c3-48be-db46-41983e61b41d"
      },
      "id": "LvbjHJ0XpnYt",
      "execution_count": 58,
      "outputs": [
        {
          "output_type": "stream",
          "name": "stdout",
          "text": [
            "                                      MARITAL_STATUS  Multiple_Morbidities  \\\n",
            "0         Married or in a same sex civil partnership                    13   \n",
            "1  Divorced or formerly in a same-sex civil partn...                     6   \n",
            "2  Seperated (but still legally married or still ...                     1   \n",
            "3                                             Single                    18   \n",
            "4  Widowed or surviving partner from same-sex civ...                     7   \n",
            "\n",
            "   Cancer  Diabetes  COPD  Asthma  \n",
            "0     4.0      24.0   5.0    29.0  \n",
            "1     1.0      10.0   1.0     7.0  \n",
            "2     1.0       3.0   0.0     3.0  \n",
            "3     1.0      19.0   1.0    35.0  \n",
            "4     5.0      10.0   2.0     3.0  \n"
          ]
        }
      ]
    },
    {
      "cell_type": "code",
      "source": [
        "pivot = pd.pivot_table(\n",
        "    population_health,\n",
        "    values='CANCER',\n",
        "    index=['ICB22NM', 'PRACTICE_NAME'],\n",
        "    columns='MARITAL_STATUS',\n",
        "    aggfunc='sum',\n",
        "    fill_value=0\n",
        ")\n",
        "print(pivot.head())\n"
      ],
      "metadata": {
        "colab": {
          "base_uri": "https://localhost:8080/"
        },
        "id": "sEEdELhLpu58",
        "outputId": "131ac2e4-cac2-42ce-fd39-9a9aeabecd24"
      },
      "id": "sEEdELhLpu58",
      "execution_count": 59,
      "outputs": [
        {
          "output_type": "stream",
          "name": "stdout",
          "text": [
            "MARITAL_STATUS                                                              Married or in a same sex civil partnership  \\\n",
            "ICB22NM                                            PRACTICE_NAME                                                         \n",
            "NHS Bedfordshire, Luton and Milton Keynes Integ... EASTGATE SURGERY                                                0.0   \n",
            "                                                   GARDENIA PRACTICE                                               1.0   \n",
            "                                                   THE GROVE SURGERY                                               2.0   \n",
            "NHS Birmingham and Solihull Integrated Care Board  FRANKLEY HEALTH CENTRE                                          0.0   \n",
            "                                                   NEW ROAD SURGERY                                                0.0   \n",
            "\n",
            "MARITAL_STATUS                                                             <16 years old therefore ineligible to marry  \\\n",
            "ICB22NM                                            PRACTICE_NAME                                                         \n",
            "NHS Bedfordshire, Luton and Milton Keynes Integ... EASTGATE SURGERY                                                0.0   \n",
            "                                                   GARDENIA PRACTICE                                               0.0   \n",
            "                                                   THE GROVE SURGERY                                               0.0   \n",
            "NHS Birmingham and Solihull Integrated Care Board  FRANKLEY HEALTH CENTRE                                          0.0   \n",
            "                                                   NEW ROAD SURGERY                                                0.0   \n",
            "\n",
            "MARITAL_STATUS                                                             Divorced or formerly in a same-sex civil partnership which is now legally dissolved  \\\n",
            "ICB22NM                                            PRACTICE_NAME                                                                                                 \n",
            "NHS Bedfordshire, Luton and Milton Keynes Integ... EASTGATE SURGERY                                                      0.0                                     \n",
            "                                                   GARDENIA PRACTICE                                                     2.0                                     \n",
            "                                                   THE GROVE SURGERY                                                     0.0                                     \n",
            "NHS Birmingham and Solihull Integrated Care Board  FRANKLEY HEALTH CENTRE                                                0.0                                     \n",
            "                                                   NEW ROAD SURGERY                                                      0.0                                     \n",
            "\n",
            "MARITAL_STATUS                                                             Seperated (but still legally married or still legally in a same-sex civil partnership)  \\\n",
            "ICB22NM                                            PRACTICE_NAME                                                                                                    \n",
            "NHS Bedfordshire, Luton and Milton Keynes Integ... EASTGATE SURGERY                                                      0.0                                        \n",
            "                                                   GARDENIA PRACTICE                                                     0.0                                        \n",
            "                                                   THE GROVE SURGERY                                                     0.0                                        \n",
            "NHS Birmingham and Solihull Integrated Care Board  FRANKLEY HEALTH CENTRE                                                0.0                                        \n",
            "                                                   NEW ROAD SURGERY                                                      0.0                                        \n",
            "\n",
            "MARITAL_STATUS                                                             Single  \\\n",
            "ICB22NM                                            PRACTICE_NAME                    \n",
            "NHS Bedfordshire, Luton and Milton Keynes Integ... EASTGATE SURGERY           1.0   \n",
            "                                                   GARDENIA PRACTICE          1.0   \n",
            "                                                   THE GROVE SURGERY          0.0   \n",
            "NHS Birmingham and Solihull Integrated Care Board  FRANKLEY HEALTH CENTRE     0.0   \n",
            "                                                   NEW ROAD SURGERY           0.0   \n",
            "\n",
            "MARITAL_STATUS                                                             Widowed or surviving partner from same-sex civil partnership  \n",
            "ICB22NM                                            PRACTICE_NAME                                                                         \n",
            "NHS Bedfordshire, Luton and Milton Keynes Integ... EASTGATE SURGERY                                                      0.0             \n",
            "                                                   GARDENIA PRACTICE                                                     0.0             \n",
            "                                                   THE GROVE SURGERY                                                     0.0             \n",
            "NHS Birmingham and Solihull Integrated Care Board  FRANKLEY HEALTH CENTRE                                                0.0             \n",
            "                                                   NEW ROAD SURGERY                                                      0.0             \n"
          ]
        }
      ]
    },
    {
      "cell_type": "code",
      "source": [
        "import altair as alt\n",
        "\n",
        "# For Altair, reset index so columns are available\n",
        "pivot_reset = pivot.reset_index()\n",
        "\n",
        "# Adjust column names as needed to match your data\n",
        "chart = (\n",
        "    alt.Chart(pivot_reset)\n",
        "    .mark_circle()\n",
        "    .encode(\n",
        "        x=\"MARRIED OR IN A SAME SEX CIVIL PARTNERSHIP:Q\",\n",
        "        y=\"SINGLE:Q\",\n",
        "        size=\"SEPERATED (BUT STILL LEGALLY MARRIED OR STILL LEGALLY IN A SAME-SEX CIVIL PARTNERSHIP):Q\",\n",
        "        color=\"<16 YEARS OLD THEREFORE INELIGIBLE TO MARRY:N\",\n",
        "        tooltip=[\"PRACTICE_NAME:N\"]\n",
        "    )\n",
        ")\n",
        "chart.show()\n",
        "# In Streamlit: st.altair_chart(chart, use_container_width=True)\n"
      ],
      "metadata": {
        "colab": {
          "base_uri": "https://localhost:8080/",
          "height": 346
        },
        "id": "02F6VVIEpyXq",
        "outputId": "ea7a74ef-abb2-4ce3-dff3-ccddf9d8047c"
      },
      "id": "02F6VVIEpyXq",
      "execution_count": 60,
      "outputs": [
        {
          "output_type": "display_data",
          "data": {
            "text/html": [
              "\n",
              "<style>\n",
              "  #altair-viz-c3429746ecc648f5abac9c119c029bd5.vega-embed {\n",
              "    width: 100%;\n",
              "    display: flex;\n",
              "  }\n",
              "\n",
              "  #altair-viz-c3429746ecc648f5abac9c119c029bd5.vega-embed details,\n",
              "  #altair-viz-c3429746ecc648f5abac9c119c029bd5.vega-embed details summary {\n",
              "    position: relative;\n",
              "  }\n",
              "</style>\n",
              "<div id=\"altair-viz-c3429746ecc648f5abac9c119c029bd5\"></div>\n",
              "<script type=\"text/javascript\">\n",
              "  var VEGA_DEBUG = (typeof VEGA_DEBUG == \"undefined\") ? {} : VEGA_DEBUG;\n",
              "  (function(spec, embedOpt){\n",
              "    let outputDiv = document.currentScript.previousElementSibling;\n",
              "    if (outputDiv.id !== \"altair-viz-c3429746ecc648f5abac9c119c029bd5\") {\n",
              "      outputDiv = document.getElementById(\"altair-viz-c3429746ecc648f5abac9c119c029bd5\");\n",
              "    }\n",
              "\n",
              "    const paths = {\n",
              "      \"vega\": \"https://cdn.jsdelivr.net/npm/vega@5?noext\",\n",
              "      \"vega-lib\": \"https://cdn.jsdelivr.net/npm/vega-lib?noext\",\n",
              "      \"vega-lite\": \"https://cdn.jsdelivr.net/npm/vega-lite@5.20.1?noext\",\n",
              "      \"vega-embed\": \"https://cdn.jsdelivr.net/npm/vega-embed@6?noext\",\n",
              "    };\n",
              "\n",
              "    function maybeLoadScript(lib, version) {\n",
              "      var key = `${lib.replace(\"-\", \"\")}_version`;\n",
              "      return (VEGA_DEBUG[key] == version) ?\n",
              "        Promise.resolve(paths[lib]) :\n",
              "        new Promise(function(resolve, reject) {\n",
              "          var s = document.createElement('script');\n",
              "          document.getElementsByTagName(\"head\")[0].appendChild(s);\n",
              "          s.async = true;\n",
              "          s.onload = () => {\n",
              "            VEGA_DEBUG[key] = version;\n",
              "            return resolve(paths[lib]);\n",
              "          };\n",
              "          s.onerror = () => reject(`Error loading script: ${paths[lib]}`);\n",
              "          s.src = paths[lib];\n",
              "        });\n",
              "    }\n",
              "\n",
              "    function showError(err) {\n",
              "      outputDiv.innerHTML = `<div class=\"error\" style=\"color:red;\">${err}</div>`;\n",
              "      throw err;\n",
              "    }\n",
              "\n",
              "    function displayChart(vegaEmbed) {\n",
              "      vegaEmbed(outputDiv, spec, embedOpt)\n",
              "        .catch(err => showError(`Javascript Error: ${err.message}<br>This usually means there's a typo in your chart specification. See the javascript console for the full traceback.`));\n",
              "    }\n",
              "\n",
              "    if(typeof define === \"function\" && define.amd) {\n",
              "      requirejs.config({paths});\n",
              "      let deps = [\"vega-embed\"];\n",
              "      require(deps, displayChart, err => showError(`Error loading script: ${err.message}`));\n",
              "    } else {\n",
              "      maybeLoadScript(\"vega\", \"5\")\n",
              "        .then(() => maybeLoadScript(\"vega-lite\", \"5.20.1\"))\n",
              "        .then(() => maybeLoadScript(\"vega-embed\", \"6\"))\n",
              "        .catch(showError)\n",
              "        .then(() => displayChart(vegaEmbed));\n",
              "    }\n",
              "  })({\"config\": {\"view\": {\"continuousWidth\": 300, \"continuousHeight\": 300}}, \"data\": {\"name\": \"data-c813ec84628afbaf86c017a31b4f57a4\"}, \"mark\": {\"type\": \"circle\"}, \"encoding\": {\"color\": {\"field\": \"<16 YEARS OLD THEREFORE INELIGIBLE TO MARRY\", \"type\": \"nominal\"}, \"size\": {\"field\": \"SEPERATED (BUT STILL LEGALLY MARRIED OR STILL LEGALLY IN A SAME-SEX CIVIL PARTNERSHIP)\", \"type\": \"quantitative\"}, \"tooltip\": [{\"field\": \"PRACTICE_NAME\", \"type\": \"nominal\"}], \"x\": {\"field\": \"MARRIED OR IN A SAME SEX CIVIL PARTNERSHIP\", \"type\": \"quantitative\"}, \"y\": {\"field\": \"SINGLE\", \"type\": \"quantitative\"}}, \"$schema\": \"https://vega.github.io/schema/vega-lite/v5.20.1.json\", \"datasets\": {\"data-c813ec84628afbaf86c017a31b4f57a4\": [{\"ICB22NM\": \"NHS Bedfordshire, Luton and Milton Keynes Integrated Care Board\", \"PRACTICE_NAME\": \"EASTGATE SURGERY\", \" Married or in a same sex civil partnership\": 0.0, \"<16 years old therefore ineligible to marry\": 0.0, \"Divorced or formerly in a same-sex civil partnership which is now legally dissolved\": 0.0, \"Seperated (but still legally married or still legally in a same-sex civil partnership)\": 0.0, \"Single\": 1.0, \"Widowed or surviving partner from same-sex civil partnership\": 0.0}, {\"ICB22NM\": \"NHS Bedfordshire, Luton and Milton Keynes Integrated Care Board\", \"PRACTICE_NAME\": \"GARDENIA PRACTICE\", \" Married or in a same sex civil partnership\": 1.0, \"<16 years old therefore ineligible to marry\": 0.0, \"Divorced or formerly in a same-sex civil partnership which is now legally dissolved\": 2.0, \"Seperated (but still legally married or still legally in a same-sex civil partnership)\": 0.0, \"Single\": 1.0, \"Widowed or surviving partner from same-sex civil partnership\": 0.0}, {\"ICB22NM\": \"NHS Bedfordshire, Luton and Milton Keynes Integrated Care Board\", \"PRACTICE_NAME\": \"THE GROVE SURGERY\", \" Married or in a same sex civil partnership\": 2.0, \"<16 years old therefore ineligible to marry\": 0.0, \"Divorced or formerly in a same-sex civil partnership which is now legally dissolved\": 0.0, \"Seperated (but still legally married or still legally in a same-sex civil partnership)\": 0.0, \"Single\": 0.0, \"Widowed or surviving partner from same-sex civil partnership\": 0.0}, {\"ICB22NM\": \"NHS Birmingham and Solihull Integrated Care Board\", \"PRACTICE_NAME\": \"FRANKLEY HEALTH CENTRE\", \" Married or in a same sex civil partnership\": 0.0, \"<16 years old therefore ineligible to marry\": 0.0, \"Divorced or formerly in a same-sex civil partnership which is now legally dissolved\": 0.0, \"Seperated (but still legally married or still legally in a same-sex civil partnership)\": 0.0, \"Single\": 0.0, \"Widowed or surviving partner from same-sex civil partnership\": 0.0}, {\"ICB22NM\": \"NHS Birmingham and Solihull Integrated Care Board\", \"PRACTICE_NAME\": \"NEW ROAD SURGERY\", \" Married or in a same sex civil partnership\": 0.0, \"<16 years old therefore ineligible to marry\": 0.0, \"Divorced or formerly in a same-sex civil partnership which is now legally dissolved\": 0.0, \"Seperated (but still legally married or still legally in a same-sex civil partnership)\": 0.0, \"Single\": 0.0, \"Widowed or surviving partner from same-sex civil partnership\": 0.0}, {\"ICB22NM\": \"NHS Birmingham and Solihull Integrated Care Board\", \"PRACTICE_NAME\": \"THE VESEY PRACTICE\", \" Married or in a same sex civil partnership\": 2.0, \"<16 years old therefore ineligible to marry\": 0.0, \"Divorced or formerly in a same-sex civil partnership which is now legally dissolved\": 0.0, \"Seperated (but still legally married or still legally in a same-sex civil partnership)\": 0.0, \"Single\": 0.0, \"Widowed or surviving partner from same-sex civil partnership\": 0.0}, {\"ICB22NM\": \"NHS Black Country Integrated Care Board\", \"PRACTICE_NAME\": \"GREAT BRIDGE HEALTH CENTRE\", \" Married or in a same sex civil partnership\": 0.0, \"<16 years old therefore ineligible to marry\": 0.0, \"Divorced or formerly in a same-sex civil partnership which is now legally dissolved\": 0.0, \"Seperated (but still legally married or still legally in a same-sex civil partnership)\": 0.0, \"Single\": 0.0, \"Widowed or surviving partner from same-sex civil partnership\": 0.0}, {\"ICB22NM\": \"NHS Black Country Integrated Care Board\", \"PRACTICE_NAME\": \"HAWTHORNS MEDICAL CENTRE\", \" Married or in a same sex civil partnership\": 2.0, \"<16 years old therefore ineligible to marry\": 0.0, \"Divorced or formerly in a same-sex civil partnership which is now legally dissolved\": 0.0, \"Seperated (but still legally married or still legally in a same-sex civil partnership)\": 0.0, \"Single\": 4.0, \"Widowed or surviving partner from same-sex civil partnership\": 0.0}, {\"ICB22NM\": \"NHS Bristol, North Somerset and South Gloucestershire Integrated Care Board\", \"PRACTICE_NAME\": \"BEDMINSTER FAMILY PRACTICE\", \" Married or in a same sex civil partnership\": 0.0, \"<16 years old therefore ineligible to marry\": 0.0, \"Divorced or formerly in a same-sex civil partnership which is now legally dissolved\": 0.0, \"Seperated (but still legally married or still legally in a same-sex civil partnership)\": 0.0, \"Single\": 0.0, \"Widowed or surviving partner from same-sex civil partnership\": 0.0}, {\"ICB22NM\": \"NHS Bristol, North Somerset and South Gloucestershire Integrated Care Board\", \"PRACTICE_NAME\": \"COMPASS HEALTH\", \" Married or in a same sex civil partnership\": 0.0, \"<16 years old therefore ineligible to marry\": 0.0, \"Divorced or formerly in a same-sex civil partnership which is now legally dissolved\": 0.0, \"Seperated (but still legally married or still legally in a same-sex civil partnership)\": 0.0, \"Single\": 0.0, \"Widowed or surviving partner from same-sex civil partnership\": 0.0}, {\"ICB22NM\": \"NHS Bristol, North Somerset and South Gloucestershire Integrated Care Board\", \"PRACTICE_NAME\": \"GAYWOOD HOUSE SURGERY\", \" Married or in a same sex civil partnership\": 0.0, \"<16 years old therefore ineligible to marry\": 0.0, \"Divorced or formerly in a same-sex civil partnership which is now legally dissolved\": 0.0, \"Seperated (but still legally married or still legally in a same-sex civil partnership)\": 0.0, \"Single\": 0.0, \"Widowed or surviving partner from same-sex civil partnership\": 0.0}, {\"ICB22NM\": \"NHS Buckinghamshire, Oxfordshire and Berkshire West Integrated Care Board\", \"PRACTICE_NAME\": \"ST. BARTHOLOMEWS MEDICAL CENTRE\", \" Married or in a same sex civil partnership\": 0.0, \"<16 years old therefore ineligible to marry\": 0.0, \"Divorced or formerly in a same-sex civil partnership which is now legally dissolved\": 0.0, \"Seperated (but still legally married or still legally in a same-sex civil partnership)\": 0.0, \"Single\": 0.0, \"Widowed or surviving partner from same-sex civil partnership\": 0.0}, {\"ICB22NM\": \"NHS Cambridgeshire and Peterborough Integrated Care Board\", \"PRACTICE_NAME\": \"DOGSTHORPE MEDICAL CENTRE\", \" Married or in a same sex civil partnership\": 0.0, \"<16 years old therefore ineligible to marry\": 0.0, \"Divorced or formerly in a same-sex civil partnership which is now legally dissolved\": 0.0, \"Seperated (but still legally married or still legally in a same-sex civil partnership)\": 0.0, \"Single\": 0.0, \"Widowed or surviving partner from same-sex civil partnership\": 2.0}, {\"ICB22NM\": \"NHS Cambridgeshire and Peterborough Integrated Care Board\", \"PRACTICE_NAME\": \"ORCHARD SURGERY,MELBOURN\", \" Married or in a same sex civil partnership\": 0.0, \"<16 years old therefore ineligible to marry\": 0.0, \"Divorced or formerly in a same-sex civil partnership which is now legally dissolved\": 0.0, \"Seperated (but still legally married or still legally in a same-sex civil partnership)\": 0.0, \"Single\": 0.0, \"Widowed or surviving partner from same-sex civil partnership\": 0.0}, {\"ICB22NM\": \"NHS Cambridgeshire and Peterborough Integrated Care Board\", \"PRACTICE_NAME\": \"PARNWELL\", \" Married or in a same sex civil partnership\": 0.0, \"<16 years old therefore ineligible to marry\": 0.0, \"Divorced or formerly in a same-sex civil partnership which is now legally dissolved\": 0.0, \"Seperated (but still legally married or still legally in a same-sex civil partnership)\": 0.0, \"Single\": 0.0, \"Widowed or surviving partner from same-sex civil partnership\": 0.0}, {\"ICB22NM\": \"NHS Cambridgeshire and Peterborough Integrated Care Board\", \"PRACTICE_NAME\": \"PETERSFIELD MEDICAL PRACTICE\", \" Married or in a same sex civil partnership\": 0.0, \"<16 years old therefore ineligible to marry\": 0.0, \"Divorced or formerly in a same-sex civil partnership which is now legally dissolved\": 0.0, \"Seperated (but still legally married or still legally in a same-sex civil partnership)\": 0.0, \"Single\": 0.0, \"Widowed or surviving partner from same-sex civil partnership\": 0.0}, {\"ICB22NM\": \"NHS Cambridgeshire and Peterborough Integrated Care Board\", \"PRACTICE_NAME\": \"YORK STREET MEDICAL PRACTICE\", \" Married or in a same sex civil partnership\": 0.0, \"<16 years old therefore ineligible to marry\": 0.0, \"Divorced or formerly in a same-sex civil partnership which is now legally dissolved\": 0.0, \"Seperated (but still legally married or still legally in a same-sex civil partnership)\": 0.0, \"Single\": 0.0, \"Widowed or surviving partner from same-sex civil partnership\": 0.0}, {\"ICB22NM\": \"NHS Cheshire and Merseyside Integrated Care Board\", \"PRACTICE_NAME\": \"FIRDALE MEDICAL CENTRE\", \" Married or in a same sex civil partnership\": 0.0, \"<16 years old therefore ineligible to marry\": 0.0, \"Divorced or formerly in a same-sex civil partnership which is now legally dissolved\": 0.0, \"Seperated (but still legally married or still legally in a same-sex civil partnership)\": 0.0, \"Single\": 0.0, \"Widowed or surviving partner from same-sex civil partnership\": 0.0}, {\"ICB22NM\": \"NHS Cheshire and Merseyside Integrated Care Board\", \"PRACTICE_NAME\": \"OAKWOOD MEDICAL CENTRE\", \" Married or in a same sex civil partnership\": 1.0, \"<16 years old therefore ineligible to marry\": 0.0, \"Divorced or formerly in a same-sex civil partnership which is now legally dissolved\": 0.0, \"Seperated (but still legally married or still legally in a same-sex civil partnership)\": 0.0, \"Single\": 0.0, \"Widowed or surviving partner from same-sex civil partnership\": 0.0}, {\"ICB22NM\": \"NHS Cheshire and Merseyside Integrated Care Board\", \"PRACTICE_NAME\": \"THE WEAVERHAM SURGERY\", \" Married or in a same sex civil partnership\": 0.0, \"<16 years old therefore ineligible to marry\": 0.0, \"Divorced or formerly in a same-sex civil partnership which is now legally dissolved\": 0.0, \"Seperated (but still legally married or still legally in a same-sex civil partnership)\": 0.0, \"Single\": 0.0, \"Widowed or surviving partner from same-sex civil partnership\": 0.0}, {\"ICB22NM\": \"NHS Coventry and Warwickshire Integrated Care Board\", \"PRACTICE_NAME\": \"CASTLE MEDICAL CENTRE\", \" Married or in a same sex civil partnership\": 1.0, \"<16 years old therefore ineligible to marry\": 0.0, \"Divorced or formerly in a same-sex civil partnership which is now legally dissolved\": 0.0, \"Seperated (but still legally married or still legally in a same-sex civil partnership)\": 0.0, \"Single\": 0.0, \"Widowed or surviving partner from same-sex civil partnership\": 0.0}, {\"ICB22NM\": \"NHS Coventry and Warwickshire Integrated Care Board\", \"PRACTICE_NAME\": \"PARK HOUSE\", \" Married or in a same sex civil partnership\": 0.0, \"<16 years old therefore ineligible to marry\": 0.0, \"Divorced or formerly in a same-sex civil partnership which is now legally dissolved\": 0.0, \"Seperated (but still legally married or still legally in a same-sex civil partnership)\": 0.0, \"Single\": 0.0, \"Widowed or surviving partner from same-sex civil partnership\": 0.0}, {\"ICB22NM\": \"NHS Coventry and Warwickshire Integrated Care Board\", \"PRACTICE_NAME\": \"PARK LEYS MEDICAL PRACTICE\", \" Married or in a same sex civil partnership\": 0.0, \"<16 years old therefore ineligible to marry\": 0.0, \"Divorced or formerly in a same-sex civil partnership which is now legally dissolved\": 0.0, \"Seperated (but still legally married or still legally in a same-sex civil partnership)\": 0.0, \"Single\": 0.0, \"Widowed or surviving partner from same-sex civil partnership\": 0.0}, {\"ICB22NM\": \"NHS Derby and Derbyshire Integrated Care Board\", \"PRACTICE_NAME\": \"EYAM SURGERY\", \" Married or in a same sex civil partnership\": 0.0, \"<16 years old therefore ineligible to marry\": 0.0, \"Divorced or formerly in a same-sex civil partnership which is now legally dissolved\": 0.0, \"Seperated (but still legally married or still legally in a same-sex civil partnership)\": 0.0, \"Single\": 0.0, \"Widowed or surviving partner from same-sex civil partnership\": 0.0}, {\"ICB22NM\": \"NHS Derby and Derbyshire Integrated Care Board\", \"PRACTICE_NAME\": \"NEWBOLD SURGERY\", \" Married or in a same sex civil partnership\": 0.0, \"<16 years old therefore ineligible to marry\": 0.0, \"Divorced or formerly in a same-sex civil partnership which is now legally dissolved\": 0.0, \"Seperated (but still legally married or still legally in a same-sex civil partnership)\": 0.0, \"Single\": 0.0, \"Widowed or surviving partner from same-sex civil partnership\": 0.0}, {\"ICB22NM\": \"NHS Devon Integrated Care Board\", \"PRACTICE_NAME\": \"RALEIGH SURGERY\", \" Married or in a same sex civil partnership\": 0.0, \"<16 years old therefore ineligible to marry\": 0.0, \"Divorced or formerly in a same-sex civil partnership which is now legally dissolved\": 0.0, \"Seperated (but still legally married or still legally in a same-sex civil partnership)\": 0.0, \"Single\": 0.0, \"Widowed or surviving partner from same-sex civil partnership\": 0.0}, {\"ICB22NM\": \"NHS Devon Integrated Care Board\", \"PRACTICE_NAME\": \"SOUTHWAY SURGERY\", \" Married or in a same sex civil partnership\": 0.0, \"<16 years old therefore ineligible to marry\": 0.0, \"Divorced or formerly in a same-sex civil partnership which is now legally dissolved\": 0.0, \"Seperated (but still legally married or still legally in a same-sex civil partnership)\": 0.0, \"Single\": 0.0, \"Widowed or surviving partner from same-sex civil partnership\": 0.0}, {\"ICB22NM\": \"NHS Devon Integrated Care Board\", \"PRACTICE_NAME\": \"ST LUKES MEDICAL CENTRE\", \" Married or in a same sex civil partnership\": 1.0, \"<16 years old therefore ineligible to marry\": 0.0, \"Divorced or formerly in a same-sex civil partnership which is now legally dissolved\": 0.0, \"Seperated (but still legally married or still legally in a same-sex civil partnership)\": 0.0, \"Single\": 0.0, \"Widowed or surviving partner from same-sex civil partnership\": 0.0}, {\"ICB22NM\": \"NHS Dorset Integrated Care Board\", \"PRACTICE_NAME\": \"THE APPLES MEDICAL CENTRE\", \" Married or in a same sex civil partnership\": 0.0, \"<16 years old therefore ineligible to marry\": 0.0, \"Divorced or formerly in a same-sex civil partnership which is now legally dissolved\": 0.0, \"Seperated (but still legally married or still legally in a same-sex civil partnership)\": 0.0, \"Single\": 0.0, \"Widowed or surviving partner from same-sex civil partnership\": 0.0}, {\"ICB22NM\": \"NHS Gloucestershire Integrated Care Board\", \"PRACTICE_NAME\": \"MINCHINHAMPTON SURGERY\", \" Married or in a same sex civil partnership\": 0.0, \"<16 years old therefore ineligible to marry\": 0.0, \"Divorced or formerly in a same-sex civil partnership which is now legally dissolved\": 0.0, \"Seperated (but still legally married or still legally in a same-sex civil partnership)\": 0.0, \"Single\": 0.0, \"Widowed or surviving partner from same-sex civil partnership\": 0.0}, {\"ICB22NM\": \"NHS Greater Manchester Integrated Care Board\", \"PRACTICE_NAME\": \"BURNAGE HEALTHCARE PRACTICE\", \" Married or in a same sex civil partnership\": 0.0, \"<16 years old therefore ineligible to marry\": 0.0, \"Divorced or formerly in a same-sex civil partnership which is now legally dissolved\": 0.0, \"Seperated (but still legally married or still legally in a same-sex civil partnership)\": 0.0, \"Single\": 0.0, \"Widowed or surviving partner from same-sex civil partnership\": 0.0}, {\"ICB22NM\": \"NHS Greater Manchester Integrated Care Board\", \"PRACTICE_NAME\": \"DR SEABROOK\", \" Married or in a same sex civil partnership\": 0.0, \"<16 years old therefore ineligible to marry\": 0.0, \"Divorced or formerly in a same-sex civil partnership which is now legally dissolved\": 0.0, \"Seperated (but still legally married or still legally in a same-sex civil partnership)\": 0.0, \"Single\": 0.0, \"Widowed or surviving partner from same-sex civil partnership\": 0.0}, {\"ICB22NM\": \"NHS Greater Manchester Integrated Care Board\", \"PRACTICE_NAME\": \"DR WONG AND PARTNERS\", \" Married or in a same sex civil partnership\": 0.0, \"<16 years old therefore ineligible to marry\": 1.0, \"Divorced or formerly in a same-sex civil partnership which is now legally dissolved\": 0.0, \"Seperated (but still legally married or still legally in a same-sex civil partnership)\": 0.0, \"Single\": 0.0, \"Widowed or surviving partner from same-sex civil partnership\": 0.0}, {\"ICB22NM\": \"NHS Greater Manchester Integrated Care Board\", \"PRACTICE_NAME\": \"KINGSWAY MEDICAL PRACTICE\", \" Married or in a same sex civil partnership\": 0.0, \"<16 years old therefore ineligible to marry\": 0.0, \"Divorced or formerly in a same-sex civil partnership which is now legally dissolved\": 0.0, \"Seperated (but still legally married or still legally in a same-sex civil partnership)\": 0.0, \"Single\": 0.0, \"Widowed or surviving partner from same-sex civil partnership\": 0.0}, {\"ICB22NM\": \"NHS Greater Manchester Integrated Care Board\", \"PRACTICE_NAME\": \"SPRING HOUSE SURGERY\", \" Married or in a same sex civil partnership\": 0.0, \"<16 years old therefore ineligible to marry\": 0.0, \"Divorced or formerly in a same-sex civil partnership which is now legally dissolved\": 0.0, \"Seperated (but still legally married or still legally in a same-sex civil partnership)\": 1.0, \"Single\": 0.0, \"Widowed or surviving partner from same-sex civil partnership\": 0.0}, {\"ICB22NM\": \"NHS Kent and Medway Integrated Care Board\", \"PRACTICE_NAME\": \"MAIDSTONE RD RAINHAM SURGERY\", \" Married or in a same sex civil partnership\": 0.0, \"<16 years old therefore ineligible to marry\": 0.0, \"Divorced or formerly in a same-sex civil partnership which is now legally dissolved\": 0.0, \"Seperated (but still legally married or still legally in a same-sex civil partnership)\": 0.0, \"Single\": 0.0, \"Widowed or surviving partner from same-sex civil partnership\": 2.0}, {\"ICB22NM\": \"NHS Kent and Medway Integrated Care Board\", \"PRACTICE_NAME\": \"MATRIX MEDICAL PRACTICE\", \" Married or in a same sex civil partnership\": 0.0, \"<16 years old therefore ineligible to marry\": 0.0, \"Divorced or formerly in a same-sex civil partnership which is now legally dissolved\": 0.0, \"Seperated (but still legally married or still legally in a same-sex civil partnership)\": 0.0, \"Single\": 0.0, \"Widowed or surviving partner from same-sex civil partnership\": 2.0}, {\"ICB22NM\": \"NHS Kent and Medway Integrated Care Board\", \"PRACTICE_NAME\": \"NORTHGATE MEDICAL PRACTICE\", \" Married or in a same sex civil partnership\": 0.0, \"<16 years old therefore ineligible to marry\": 0.0, \"Divorced or formerly in a same-sex civil partnership which is now legally dissolved\": 0.0, \"Seperated (but still legally married or still legally in a same-sex civil partnership)\": 0.0, \"Single\": 0.0, \"Widowed or surviving partner from same-sex civil partnership\": 0.0}, {\"ICB22NM\": \"NHS Kent and Medway Integrated Care Board\", \"PRACTICE_NAME\": \"THE WELLS MEDICAL PRACTICE\", \" Married or in a same sex civil partnership\": 0.0, \"<16 years old therefore ineligible to marry\": 0.0, \"Divorced or formerly in a same-sex civil partnership which is now legally dissolved\": 0.0, \"Seperated (but still legally married or still legally in a same-sex civil partnership)\": 0.0, \"Single\": 0.0, \"Widowed or surviving partner from same-sex civil partnership\": 0.0}, {\"ICB22NM\": \"NHS Lancashire and South Cumbria Integrated Care Board\", \"PRACTICE_NAME\": \"BEECHES MEDICAL CENTRE\", \" Married or in a same sex civil partnership\": 8.0, \"<16 years old therefore ineligible to marry\": 0.0, \"Divorced or formerly in a same-sex civil partnership which is now legally dissolved\": 0.0, \"Seperated (but still legally married or still legally in a same-sex civil partnership)\": 0.0, \"Single\": 0.0, \"Widowed or surviving partner from same-sex civil partnership\": 0.0}, {\"ICB22NM\": \"NHS Leicester, Leicestershire and Rutland Integrated Care Board\", \"PRACTICE_NAME\": \"VICTORIA PARK HEALTH CENTRE\", \" Married or in a same sex civil partnership\": 1.0, \"<16 years old therefore ineligible to marry\": 0.0, \"Divorced or formerly in a same-sex civil partnership which is now legally dissolved\": 0.0, \"Seperated (but still legally married or still legally in a same-sex civil partnership)\": 0.0, \"Single\": 0.0, \"Widowed or surviving partner from same-sex civil partnership\": 0.0}, {\"ICB22NM\": \"NHS Lincolnshire Integrated Care Board\", \"PRACTICE_NAME\": \"BRANT ROAD & SPRINGCLIFFE SURGERY\", \" Married or in a same sex civil partnership\": 0.0, \"<16 years old therefore ineligible to marry\": 0.0, \"Divorced or formerly in a same-sex civil partnership which is now legally dissolved\": 0.0, \"Seperated (but still legally married or still legally in a same-sex civil partnership)\": 0.0, \"Single\": 0.0, \"Widowed or surviving partner from same-sex civil partnership\": 2.0}, {\"ICB22NM\": \"NHS North Central London Integrated Care Board\", \"PRACTICE_NAME\": \"AMPTHILL PRACTICE\", \" Married or in a same sex civil partnership\": 0.0, \"<16 years old therefore ineligible to marry\": 1.0, \"Divorced or formerly in a same-sex civil partnership which is now legally dissolved\": 0.0, \"Seperated (but still legally married or still legally in a same-sex civil partnership)\": 0.0, \"Single\": 2.0, \"Widowed or surviving partner from same-sex civil partnership\": 1.0}, {\"ICB22NM\": \"NHS North Central London Integrated Care Board\", \"PRACTICE_NAME\": \"CHARLTON HOUSE MEDICAL CENTRE\", \" Married or in a same sex civil partnership\": 0.0, \"<16 years old therefore ineligible to marry\": 1.0, \"Divorced or formerly in a same-sex civil partnership which is now legally dissolved\": 0.0, \"Seperated (but still legally married or still legally in a same-sex civil partnership)\": 0.0, \"Single\": 0.0, \"Widowed or surviving partner from same-sex civil partnership\": 0.0}, {\"ICB22NM\": \"NHS North Central London Integrated Care Board\", \"PRACTICE_NAME\": \"HAVERGAL SURGERY\", \" Married or in a same sex civil partnership\": 0.0, \"<16 years old therefore ineligible to marry\": 1.0, \"Divorced or formerly in a same-sex civil partnership which is now legally dissolved\": 0.0, \"Seperated (but still legally married or still legally in a same-sex civil partnership)\": 1.0, \"Single\": 2.0, \"Widowed or surviving partner from same-sex civil partnership\": 2.0}, {\"ICB22NM\": \"NHS North Central London Integrated Care Board\", \"PRACTICE_NAME\": \"ZAIN MEDICAL CENTRE\", \" Married or in a same sex civil partnership\": 0.0, \"<16 years old therefore ineligible to marry\": 0.0, \"Divorced or formerly in a same-sex civil partnership which is now legally dissolved\": 0.0, \"Seperated (but still legally married or still legally in a same-sex civil partnership)\": 0.0, \"Single\": 0.0, \"Widowed or surviving partner from same-sex civil partnership\": 0.0}, {\"ICB22NM\": \"NHS North East London Integrated Care Board\", \"PRACTICE_NAME\": \"DR A ARIF\", \" Married or in a same sex civil partnership\": 0.0, \"<16 years old therefore ineligible to marry\": 0.0, \"Divorced or formerly in a same-sex civil partnership which is now legally dissolved\": 0.0, \"Seperated (but still legally married or still legally in a same-sex civil partnership)\": 0.0, \"Single\": 0.0, \"Widowed or surviving partner from same-sex civil partnership\": 0.0}, {\"ICB22NM\": \"NHS North East London Integrated Care Board\", \"PRACTICE_NAME\": \"DR SHANTIR PRACTICE\", \" Married or in a same sex civil partnership\": 0.0, \"<16 years old therefore ineligible to marry\": 0.0, \"Divorced or formerly in a same-sex civil partnership which is now legally dissolved\": 0.0, \"Seperated (but still legally married or still legally in a same-sex civil partnership)\": 1.0, \"Single\": 0.0, \"Widowed or surviving partner from same-sex civil partnership\": 3.0}, {\"ICB22NM\": \"NHS North East London Integrated Care Board\", \"PRACTICE_NAME\": \"QUEENS ROAD MEDICAL CENTRE\", \" Married or in a same sex civil partnership\": 4.0, \"<16 years old therefore ineligible to marry\": 0.0, \"Divorced or formerly in a same-sex civil partnership which is now legally dissolved\": 0.0, \"Seperated (but still legally married or still legally in a same-sex civil partnership)\": 0.0, \"Single\": 0.0, \"Widowed or surviving partner from same-sex civil partnership\": 0.0}, {\"ICB22NM\": \"NHS North East and North Cumbria Integrated Care Board\", \"PRACTICE_NAME\": \"PARK SURGERY\", \" Married or in a same sex civil partnership\": 0.0, \"<16 years old therefore ineligible to marry\": 0.0, \"Divorced or formerly in a same-sex civil partnership which is now legally dissolved\": 2.0, \"Seperated (but still legally married or still legally in a same-sex civil partnership)\": 0.0, \"Single\": 0.0, \"Widowed or surviving partner from same-sex civil partnership\": 0.0}, {\"ICB22NM\": \"NHS North East and North Cumbria Integrated Care Board\", \"PRACTICE_NAME\": \"SECOND STREET SURGERY\", \" Married or in a same sex civil partnership\": 0.0, \"<16 years old therefore ineligible to marry\": 0.0, \"Divorced or formerly in a same-sex civil partnership which is now legally dissolved\": 0.0, \"Seperated (but still legally married or still legally in a same-sex civil partnership)\": 0.0, \"Single\": 0.0, \"Widowed or surviving partner from same-sex civil partnership\": 0.0}, {\"ICB22NM\": \"NHS North East and North Cumbria Integrated Care Board\", \"PRACTICE_NAME\": \"SWARLAND AVENUE SURGERY\", \" Married or in a same sex civil partnership\": 0.0, \"<16 years old therefore ineligible to marry\": 0.0, \"Divorced or formerly in a same-sex civil partnership which is now legally dissolved\": 0.0, \"Seperated (but still legally married or still legally in a same-sex civil partnership)\": 0.0, \"Single\": 0.0, \"Widowed or surviving partner from same-sex civil partnership\": 0.0}, {\"ICB22NM\": \"NHS North East and North Cumbria Integrated Care Board\", \"PRACTICE_NAME\": \"THE NEW CITY MEDICAL GROUP\", \" Married or in a same sex civil partnership\": 0.0, \"<16 years old therefore ineligible to marry\": 0.0, \"Divorced or formerly in a same-sex civil partnership which is now legally dissolved\": 1.0, \"Seperated (but still legally married or still legally in a same-sex civil partnership)\": 0.0, \"Single\": 0.0, \"Widowed or surviving partner from same-sex civil partnership\": 0.0}, {\"ICB22NM\": \"NHS North West London Integrated Care Board\", \"PRACTICE_NAME\": \"SUDBURY & ALPERTON MEDICAL CENTRE\", \" Married or in a same sex civil partnership\": 0.0, \"<16 years old therefore ineligible to marry\": 0.0, \"Divorced or formerly in a same-sex civil partnership which is now legally dissolved\": 0.0, \"Seperated (but still legally married or still legally in a same-sex civil partnership)\": 0.0, \"Single\": 0.0, \"Widowed or surviving partner from same-sex civil partnership\": 0.0}, {\"ICB22NM\": \"NHS North West London Integrated Care Board\", \"PRACTICE_NAME\": \"THE NORTHWICK SURGERY\", \" Married or in a same sex civil partnership\": 0.0, \"<16 years old therefore ineligible to marry\": 0.0, \"Divorced or formerly in a same-sex civil partnership which is now legally dissolved\": 0.0, \"Seperated (but still legally married or still legally in a same-sex civil partnership)\": 0.0, \"Single\": 1.0, \"Widowed or surviving partner from same-sex civil partnership\": 0.0}, {\"ICB22NM\": \"NHS Nottingham and Nottinghamshire Integrated Care Board\", \"PRACTICE_NAME\": \"CHURCHFIELDS MEDICAL PRACTICE\", \" Married or in a same sex civil partnership\": 0.0, \"<16 years old therefore ineligible to marry\": 0.0, \"Divorced or formerly in a same-sex civil partnership which is now legally dissolved\": 0.0, \"Seperated (but still legally married or still legally in a same-sex civil partnership)\": 0.0, \"Single\": 0.0, \"Widowed or surviving partner from same-sex civil partnership\": 0.0}, {\"ICB22NM\": \"NHS Nottingham and Nottinghamshire Integrated Care Board\", \"PRACTICE_NAME\": \"FAMILY MEDICAL CENTRE (SOOD)\", \" Married or in a same sex civil partnership\": 0.0, \"<16 years old therefore ineligible to marry\": 0.0, \"Divorced or formerly in a same-sex civil partnership which is now legally dissolved\": 0.0, \"Seperated (but still legally married or still legally in a same-sex civil partnership)\": 1.0, \"Single\": 0.0, \"Widowed or surviving partner from same-sex civil partnership\": 0.0}, {\"ICB22NM\": \"NHS Nottingham and Nottinghamshire Integrated Care Board\", \"PRACTICE_NAME\": \"JRB HEALTHCARE BEECHDALE SURGERY\", \" Married or in a same sex civil partnership\": 0.0, \"<16 years old therefore ineligible to marry\": 0.0, \"Divorced or formerly in a same-sex civil partnership which is now legally dissolved\": 0.0, \"Seperated (but still legally married or still legally in a same-sex civil partnership)\": 0.0, \"Single\": 0.0, \"Widowed or surviving partner from same-sex civil partnership\": 0.0}, {\"ICB22NM\": \"NHS Nottingham and Nottinghamshire Integrated Care Board\", \"PRACTICE_NAME\": \"RISE PARK SURGERY\", \" Married or in a same sex civil partnership\": 0.0, \"<16 years old therefore ineligible to marry\": 0.0, \"Divorced or formerly in a same-sex civil partnership which is now legally dissolved\": 0.0, \"Seperated (but still legally married or still legally in a same-sex civil partnership)\": 0.0, \"Single\": 0.0, \"Widowed or surviving partner from same-sex civil partnership\": 0.0}, {\"ICB22NM\": \"NHS Somerset Integrated Care Board\", \"PRACTICE_NAME\": \"WELLS HEALTH CENTRE\", \" Married or in a same sex civil partnership\": 2.0, \"<16 years old therefore ineligible to marry\": 0.0, \"Divorced or formerly in a same-sex civil partnership which is now legally dissolved\": 1.0, \"Seperated (but still legally married or still legally in a same-sex civil partnership)\": 0.0, \"Single\": 1.0, \"Widowed or surviving partner from same-sex civil partnership\": 0.0}, {\"ICB22NM\": \"NHS South East London Integrated Care Board\", \"PRACTICE_NAME\": \"HERNE HILL ROAD MEDICAL PRACTICE\", \" Married or in a same sex civil partnership\": 0.0, \"<16 years old therefore ineligible to marry\": 0.0, \"Divorced or formerly in a same-sex civil partnership which is now legally dissolved\": 0.0, \"Seperated (but still legally married or still legally in a same-sex civil partnership)\": 0.0, \"Single\": 0.0, \"Widowed or surviving partner from same-sex civil partnership\": 0.0}, {\"ICB22NM\": \"NHS South East London Integrated Care Board\", \"PRACTICE_NAME\": \"THE NEAMAN PRACTICE\", \" Married or in a same sex civil partnership\": 0.0, \"<16 years old therefore ineligible to marry\": 0.0, \"Divorced or formerly in a same-sex civil partnership which is now legally dissolved\": 0.0, \"Seperated (but still legally married or still legally in a same-sex civil partnership)\": 0.0, \"Single\": 0.0, \"Widowed or surviving partner from same-sex civil partnership\": 0.0}, {\"ICB22NM\": \"NHS South West London Integrated Care Board\", \"PRACTICE_NAME\": \"SOUTH CROYDON MEDICAL CENTRE\", \" Married or in a same sex civil partnership\": 0.0, \"<16 years old therefore ineligible to marry\": 0.0, \"Divorced or formerly in a same-sex civil partnership which is now legally dissolved\": 0.0, \"Seperated (but still legally married or still legally in a same-sex civil partnership)\": 0.0, \"Single\": 0.0, \"Widowed or surviving partner from same-sex civil partnership\": 0.0}, {\"ICB22NM\": \"NHS South Yorkshire Integrated Care Board\", \"PRACTICE_NAME\": \"THE FLYING SCOTSMAN HEALTH CENTRE\", \" Married or in a same sex civil partnership\": 0.0, \"<16 years old therefore ineligible to marry\": 0.0, \"Divorced or formerly in a same-sex civil partnership which is now legally dissolved\": 0.0, \"Seperated (but still legally married or still legally in a same-sex civil partnership)\": 1.0, \"Single\": 0.0, \"Widowed or surviving partner from same-sex civil partnership\": 0.0}, {\"ICB22NM\": \"NHS Staffordshire and Stoke-on-Trent Integrated Care Board\", \"PRACTICE_NAME\": \"THE PEEL MEDICAL PRACTICE\", \" Married or in a same sex civil partnership\": 0.0, \"<16 years old therefore ineligible to marry\": 0.0, \"Divorced or formerly in a same-sex civil partnership which is now legally dissolved\": 0.0, \"Seperated (but still legally married or still legally in a same-sex civil partnership)\": 0.0, \"Single\": 0.0, \"Widowed or surviving partner from same-sex civil partnership\": 0.0}, {\"ICB22NM\": \"NHS Staffordshire and Stoke-on-Trent Integrated Care Board\", \"PRACTICE_NAME\": \"TRI-LINKS MEDICAL PRACTICE\", \" Married or in a same sex civil partnership\": 0.0, \"<16 years old therefore ineligible to marry\": 0.0, \"Divorced or formerly in a same-sex civil partnership which is now legally dissolved\": 0.0, \"Seperated (but still legally married or still legally in a same-sex civil partnership)\": 0.0, \"Single\": 0.0, \"Widowed or surviving partner from same-sex civil partnership\": 0.0}, {\"ICB22NM\": \"NHS Suffolk and North East Essex Integrated Care Board\", \"PRACTICE_NAME\": \"COLNE MEDICAL CENTRE\", \" Married or in a same sex civil partnership\": 4.0, \"<16 years old therefore ineligible to marry\": 0.0, \"Divorced or formerly in a same-sex civil partnership which is now legally dissolved\": 0.0, \"Seperated (but still legally married or still legally in a same-sex civil partnership)\": 0.0, \"Single\": 0.0, \"Widowed or surviving partner from same-sex civil partnership\": 0.0}, {\"ICB22NM\": \"NHS Suffolk and North East Essex Integrated Care Board\", \"PRACTICE_NAME\": \"ROWHEDGE SURGERY\", \" Married or in a same sex civil partnership\": 0.0, \"<16 years old therefore ineligible to marry\": 0.0, \"Divorced or formerly in a same-sex civil partnership which is now legally dissolved\": 0.0, \"Seperated (but still legally married or still legally in a same-sex civil partnership)\": 0.0, \"Single\": 2.0, \"Widowed or surviving partner from same-sex civil partnership\": 0.0}, {\"ICB22NM\": \"NHS Sussex Integrated Care Board\", \"PRACTICE_NAME\": \"BEACON SURGERY\", \" Married or in a same sex civil partnership\": 0.0, \"<16 years old therefore ineligible to marry\": 0.0, \"Divorced or formerly in a same-sex civil partnership which is now legally dissolved\": 0.0, \"Seperated (but still legally married or still legally in a same-sex civil partnership)\": 0.0, \"Single\": 1.0, \"Widowed or surviving partner from same-sex civil partnership\": 0.0}, {\"ICB22NM\": \"NHS Sussex Integrated Care Board\", \"PRACTICE_NAME\": \"ST. ANDREWS SURGERY\", \" Married or in a same sex civil partnership\": 0.0, \"<16 years old therefore ineligible to marry\": 0.0, \"Divorced or formerly in a same-sex civil partnership which is now legally dissolved\": 0.0, \"Seperated (but still legally married or still legally in a same-sex civil partnership)\": 0.0, \"Single\": 0.0, \"Widowed or surviving partner from same-sex civil partnership\": 1.0}, {\"ICB22NM\": \"NHS West Yorkshire Integrated Care Board\", \"PRACTICE_NAME\": \"BURTON CROFT SURGERY\", \" Married or in a same sex civil partnership\": 0.0, \"<16 years old therefore ineligible to marry\": 0.0, \"Divorced or formerly in a same-sex civil partnership which is now legally dissolved\": 0.0, \"Seperated (but still legally married or still legally in a same-sex civil partnership)\": 0.0, \"Single\": 0.0, \"Widowed or surviving partner from same-sex civil partnership\": 0.0}, {\"ICB22NM\": \"NHS West Yorkshire Integrated Care Board\", \"PRACTICE_NAME\": \"ONE MEDICARE LLP-THE LIGHT\", \" Married or in a same sex civil partnership\": 0.0, \"<16 years old therefore ineligible to marry\": 0.0, \"Divorced or formerly in a same-sex civil partnership which is now legally dissolved\": 0.0, \"Seperated (but still legally married or still legally in a same-sex civil partnership)\": 0.0, \"Single\": 3.0, \"Widowed or surviving partner from same-sex civil partnership\": 0.0}, {\"ICB22NM\": \"NHS West Yorkshire Integrated Care Board\", \"PRACTICE_NAME\": \"THE BOULEVARD MEDICAL PRACTICE\", \" Married or in a same sex civil partnership\": 0.0, \"<16 years old therefore ineligible to marry\": 0.0, \"Divorced or formerly in a same-sex civil partnership which is now legally dissolved\": 0.0, \"Seperated (but still legally married or still legally in a same-sex civil partnership)\": 0.0, \"Single\": 0.0, \"Widowed or surviving partner from same-sex civil partnership\": 0.0}]}}, {\"mode\": \"vega-lite\"});\n",
              "</script>"
            ],
            "text/plain": [
              "alt.Chart(...)"
            ]
          },
          "metadata": {}
        }
      ]
    },
    {
      "cell_type": "code",
      "source": [
        "import requests\n",
        "import geopandas as gpd\n",
        "import pandas as pd\n",
        "\n",
        "url = 'https://services1.arcgis.com/ESMARspQHYMw9BZ9/arcgis/rest/services/LSOA_2011_Boundaries_Super_Generalised_Clipped_BSC_EW_V4/FeatureServer/0/query'\n",
        "params = {\n",
        "    \"where\": \"1=1\",\n",
        "    \"outFields\": \"*\",\n",
        "    \"f\": \"geojson\"\n",
        "}\n",
        "\n",
        "response = requests.get(url, params=params)\n",
        "response.raise_for_status()\n",
        "\n",
        "gdf = gpd.read_file(response.text)\n",
        "gdf['GEOM'] = gdf['geometry'].apply(lambda x: x.wkb_hex)\n",
        "\n",
        "output = pd.DataFrame({\n",
        "    'LSOA11CD': gdf['LSOA11CD'],\n",
        "    'GEOM': gdf['GEOM']\n",
        "})\n",
        "\n",
        "output.to_csv('lsoa_polygons.csv', index=False)\n"
      ],
      "metadata": {
        "id": "-uELGcmMqeKj"
      },
      "id": "-uELGcmMqeKj",
      "execution_count": 61,
      "outputs": []
    },
    {
      "cell_type": "markdown",
      "id": "69f0366d-9786-4143-b047-227def9a24e0",
      "metadata": {
        "collapsed": false,
        "name": "heading_h3",
        "id": "69f0366d-9786-4143-b047-227def9a24e0"
      },
      "source": [
        "We will now bucket all the locations into **H3 indexes**.  Next, a new dataframe is created called **POPULATION_H3**.  "
      ]
    },
    {
      "cell_type": "code",
      "execution_count": 34,
      "id": "aeb21e44-8c96-4c87-b879-d0ce28383607",
      "metadata": {
        "language": "python",
        "name": "h3_population",
        "id": "aeb21e44-8c96-4c87-b879-d0ce28383607"
      },
      "outputs": [],
      "source": [
        "def get_h3(lat, lon, res=8):\n",
        "    return h3.latlng_to_cell(lat, lon, res)\n",
        "\n",
        "population_health['H3'] = population_health.apply(lambda row: get_h3(row['LAT'], row['LON'], 8), axis=1)\n"
      ]
    },
    {
      "cell_type": "code",
      "source": [
        "population_h3 = (\n",
        "    population_health.groupby(['H3','BODY_WEIGHT','SEX'])\n",
        "    .agg(\n",
        "        TOTAL_POPULATION=('BODY_WEIGHT','count'),\n",
        "        CANCER=('CANCER','sum'),\n",
        "        DIABETES=('DIABETES','sum'),\n",
        "        COPD=('COPD','sum'),\n",
        "        ASTHMA=('ASTHMA','sum'),\n",
        "        HYPERTENSION=('HYPERTENSION','sum'),\n",
        "        LAT=('LAT','mean'),\n",
        "        LON=('LON','mean')\n",
        "    )\n",
        "    .reset_index()\n",
        ")"
      ],
      "metadata": {
        "id": "Ph3qPVRNe2gD"
      },
      "id": "Ph3qPVRNe2gD",
      "execution_count": 36,
      "outputs": []
    },
    {
      "cell_type": "markdown",
      "id": "d702b0c6-a753-4dd2-a1b1-bbb77467c864",
      "metadata": {
        "collapsed": false,
        "name": "heading_datashare",
        "id": "d702b0c6-a753-4dd2-a1b1-bbb77467c864"
      },
      "source": [
        "Now lets look at the built up urban areas."
      ]
    },
    {
      "cell_type": "code",
      "execution_count": 38,
      "id": "d0713d78-5e59-477f-8315-58fd3cc0b5dc",
      "metadata": {
        "language": "python",
        "name": "datashare",
        "colab": {
          "base_uri": "https://localhost:8080/",
          "height": 310
        },
        "id": "d0713d78-5e59-477f-8315-58fd3cc0b5dc",
        "outputId": "4dffbdc7-f85c-44ae-a108-6c02bf5bd217"
      },
      "outputs": [
        {
          "output_type": "execute_result",
          "data": {
            "text/plain": [
              "   Unnamed: 0    GSSCODE    NAME1_TEXT  NAME1_LANGUAGE  NAME2_TEXT  \\\n",
              "0           0  S45001606    Walkerburn             NaN         NaN   \n",
              "1           1  E63008454  Walkeringham             NaN         NaN   \n",
              "2           2  E63011204       Walkern             NaN         NaN   \n",
              "3           3  E63007847    Walkington             NaN         NaN   \n",
              "4           4  E63008456      Wallasey             NaN         NaN   \n",
              "\n",
              "   NAME2_LANGUAGE  AREAHECTARES  GEOMETRY_AREA_M  \\\n",
              "0             NaN         30.00           300000   \n",
              "1             NaN         53.44           534375   \n",
              "2             NaN         52.31           523125   \n",
              "3             NaN         82.38           823750   \n",
              "4             NaN       1659.13         16591250   \n",
              "\n",
              "                                            GEOMETRY  \\\n",
              "0  MULTIPOLYGON (((335725 637225, 335725 637250, ...   \n",
              "1  MULTIPOLYGON (((476850 392125, 476825 392125, ...   \n",
              "2  MULTIPOLYGON (((528700 225575, 528700 225600, ...   \n",
              "3  MULTIPOLYGON (((499525 436725, 499500 436725, ...   \n",
              "4  MULTIPOLYGON (((324750 389450, 324750 389425, ...   \n",
              "\n",
              "                                           GEOGRAPHY  \n",
              "0  {\\n  \"coordinates\": [\\n    [\\n      [\\n       ...  \n",
              "1  {\\n  \"coordinates\": [\\n    [\\n      [\\n       ...  \n",
              "2  {\\n  \"coordinates\": [\\n    [\\n      [\\n       ...  \n",
              "3  {\\n  \"coordinates\": [\\n    [\\n      [\\n       ...  \n",
              "4  {\\n  \"coordinates\": [\\n    [\\n      [\\n       ...  "
            ],
            "text/html": [
              "\n",
              "  <div id=\"df-4722c6fa-1e2c-4c4b-93d9-2c8f97a29313\" class=\"colab-df-container\">\n",
              "    <div>\n",
              "<style scoped>\n",
              "    .dataframe tbody tr th:only-of-type {\n",
              "        vertical-align: middle;\n",
              "    }\n",
              "\n",
              "    .dataframe tbody tr th {\n",
              "        vertical-align: top;\n",
              "    }\n",
              "\n",
              "    .dataframe thead th {\n",
              "        text-align: right;\n",
              "    }\n",
              "</style>\n",
              "<table border=\"1\" class=\"dataframe\">\n",
              "  <thead>\n",
              "    <tr style=\"text-align: right;\">\n",
              "      <th></th>\n",
              "      <th>Unnamed: 0</th>\n",
              "      <th>GSSCODE</th>\n",
              "      <th>NAME1_TEXT</th>\n",
              "      <th>NAME1_LANGUAGE</th>\n",
              "      <th>NAME2_TEXT</th>\n",
              "      <th>NAME2_LANGUAGE</th>\n",
              "      <th>AREAHECTARES</th>\n",
              "      <th>GEOMETRY_AREA_M</th>\n",
              "      <th>GEOMETRY</th>\n",
              "      <th>GEOGRAPHY</th>\n",
              "    </tr>\n",
              "  </thead>\n",
              "  <tbody>\n",
              "    <tr>\n",
              "      <th>0</th>\n",
              "      <td>0</td>\n",
              "      <td>S45001606</td>\n",
              "      <td>Walkerburn</td>\n",
              "      <td>NaN</td>\n",
              "      <td>NaN</td>\n",
              "      <td>NaN</td>\n",
              "      <td>30.00</td>\n",
              "      <td>300000</td>\n",
              "      <td>MULTIPOLYGON (((335725 637225, 335725 637250, ...</td>\n",
              "      <td>{\\n  \"coordinates\": [\\n    [\\n      [\\n       ...</td>\n",
              "    </tr>\n",
              "    <tr>\n",
              "      <th>1</th>\n",
              "      <td>1</td>\n",
              "      <td>E63008454</td>\n",
              "      <td>Walkeringham</td>\n",
              "      <td>NaN</td>\n",
              "      <td>NaN</td>\n",
              "      <td>NaN</td>\n",
              "      <td>53.44</td>\n",
              "      <td>534375</td>\n",
              "      <td>MULTIPOLYGON (((476850 392125, 476825 392125, ...</td>\n",
              "      <td>{\\n  \"coordinates\": [\\n    [\\n      [\\n       ...</td>\n",
              "    </tr>\n",
              "    <tr>\n",
              "      <th>2</th>\n",
              "      <td>2</td>\n",
              "      <td>E63011204</td>\n",
              "      <td>Walkern</td>\n",
              "      <td>NaN</td>\n",
              "      <td>NaN</td>\n",
              "      <td>NaN</td>\n",
              "      <td>52.31</td>\n",
              "      <td>523125</td>\n",
              "      <td>MULTIPOLYGON (((528700 225575, 528700 225600, ...</td>\n",
              "      <td>{\\n  \"coordinates\": [\\n    [\\n      [\\n       ...</td>\n",
              "    </tr>\n",
              "    <tr>\n",
              "      <th>3</th>\n",
              "      <td>3</td>\n",
              "      <td>E63007847</td>\n",
              "      <td>Walkington</td>\n",
              "      <td>NaN</td>\n",
              "      <td>NaN</td>\n",
              "      <td>NaN</td>\n",
              "      <td>82.38</td>\n",
              "      <td>823750</td>\n",
              "      <td>MULTIPOLYGON (((499525 436725, 499500 436725, ...</td>\n",
              "      <td>{\\n  \"coordinates\": [\\n    [\\n      [\\n       ...</td>\n",
              "    </tr>\n",
              "    <tr>\n",
              "      <th>4</th>\n",
              "      <td>4</td>\n",
              "      <td>E63008456</td>\n",
              "      <td>Wallasey</td>\n",
              "      <td>NaN</td>\n",
              "      <td>NaN</td>\n",
              "      <td>NaN</td>\n",
              "      <td>1659.13</td>\n",
              "      <td>16591250</td>\n",
              "      <td>MULTIPOLYGON (((324750 389450, 324750 389425, ...</td>\n",
              "      <td>{\\n  \"coordinates\": [\\n    [\\n      [\\n       ...</td>\n",
              "    </tr>\n",
              "  </tbody>\n",
              "</table>\n",
              "</div>\n",
              "    <div class=\"colab-df-buttons\">\n",
              "\n",
              "  <div class=\"colab-df-container\">\n",
              "    <button class=\"colab-df-convert\" onclick=\"convertToInteractive('df-4722c6fa-1e2c-4c4b-93d9-2c8f97a29313')\"\n",
              "            title=\"Convert this dataframe to an interactive table.\"\n",
              "            style=\"display:none;\">\n",
              "\n",
              "  <svg xmlns=\"http://www.w3.org/2000/svg\" height=\"24px\" viewBox=\"0 -960 960 960\">\n",
              "    <path d=\"M120-120v-720h720v720H120Zm60-500h600v-160H180v160Zm220 220h160v-160H400v160Zm0 220h160v-160H400v160ZM180-400h160v-160H180v160Zm440 0h160v-160H620v160ZM180-180h160v-160H180v160Zm440 0h160v-160H620v160Z\"/>\n",
              "  </svg>\n",
              "    </button>\n",
              "\n",
              "  <style>\n",
              "    .colab-df-container {\n",
              "      display:flex;\n",
              "      gap: 12px;\n",
              "    }\n",
              "\n",
              "    .colab-df-convert {\n",
              "      background-color: #E8F0FE;\n",
              "      border: none;\n",
              "      border-radius: 50%;\n",
              "      cursor: pointer;\n",
              "      display: none;\n",
              "      fill: #1967D2;\n",
              "      height: 32px;\n",
              "      padding: 0 0 0 0;\n",
              "      width: 32px;\n",
              "    }\n",
              "\n",
              "    .colab-df-convert:hover {\n",
              "      background-color: #E2EBFA;\n",
              "      box-shadow: 0px 1px 2px rgba(60, 64, 67, 0.3), 0px 1px 3px 1px rgba(60, 64, 67, 0.15);\n",
              "      fill: #174EA6;\n",
              "    }\n",
              "\n",
              "    .colab-df-buttons div {\n",
              "      margin-bottom: 4px;\n",
              "    }\n",
              "\n",
              "    [theme=dark] .colab-df-convert {\n",
              "      background-color: #3B4455;\n",
              "      fill: #D2E3FC;\n",
              "    }\n",
              "\n",
              "    [theme=dark] .colab-df-convert:hover {\n",
              "      background-color: #434B5C;\n",
              "      box-shadow: 0px 1px 3px 1px rgba(0, 0, 0, 0.15);\n",
              "      filter: drop-shadow(0px 1px 2px rgba(0, 0, 0, 0.3));\n",
              "      fill: #FFFFFF;\n",
              "    }\n",
              "  </style>\n",
              "\n",
              "    <script>\n",
              "      const buttonEl =\n",
              "        document.querySelector('#df-4722c6fa-1e2c-4c4b-93d9-2c8f97a29313 button.colab-df-convert');\n",
              "      buttonEl.style.display =\n",
              "        google.colab.kernel.accessAllowed ? 'block' : 'none';\n",
              "\n",
              "      async function convertToInteractive(key) {\n",
              "        const element = document.querySelector('#df-4722c6fa-1e2c-4c4b-93d9-2c8f97a29313');\n",
              "        const dataTable =\n",
              "          await google.colab.kernel.invokeFunction('convertToInteractive',\n",
              "                                                    [key], {});\n",
              "        if (!dataTable) return;\n",
              "\n",
              "        const docLinkHtml = 'Like what you see? Visit the ' +\n",
              "          '<a target=\"_blank\" href=https://colab.research.google.com/notebooks/data_table.ipynb>data table notebook</a>'\n",
              "          + ' to learn more about interactive tables.';\n",
              "        element.innerHTML = '';\n",
              "        dataTable['output_type'] = 'display_data';\n",
              "        await google.colab.output.renderOutput(dataTable, element);\n",
              "        const docLink = document.createElement('div');\n",
              "        docLink.innerHTML = docLinkHtml;\n",
              "        element.appendChild(docLink);\n",
              "      }\n",
              "    </script>\n",
              "  </div>\n",
              "\n",
              "\n",
              "    <div id=\"df-61e67840-31d6-46db-81f5-691ed2c4bd07\">\n",
              "      <button class=\"colab-df-quickchart\" onclick=\"quickchart('df-61e67840-31d6-46db-81f5-691ed2c4bd07')\"\n",
              "                title=\"Suggest charts\"\n",
              "                style=\"display:none;\">\n",
              "\n",
              "<svg xmlns=\"http://www.w3.org/2000/svg\" height=\"24px\"viewBox=\"0 0 24 24\"\n",
              "     width=\"24px\">\n",
              "    <g>\n",
              "        <path d=\"M19 3H5c-1.1 0-2 .9-2 2v14c0 1.1.9 2 2 2h14c1.1 0 2-.9 2-2V5c0-1.1-.9-2-2-2zM9 17H7v-7h2v7zm4 0h-2V7h2v10zm4 0h-2v-4h2v4z\"/>\n",
              "    </g>\n",
              "</svg>\n",
              "      </button>\n",
              "\n",
              "<style>\n",
              "  .colab-df-quickchart {\n",
              "      --bg-color: #E8F0FE;\n",
              "      --fill-color: #1967D2;\n",
              "      --hover-bg-color: #E2EBFA;\n",
              "      --hover-fill-color: #174EA6;\n",
              "      --disabled-fill-color: #AAA;\n",
              "      --disabled-bg-color: #DDD;\n",
              "  }\n",
              "\n",
              "  [theme=dark] .colab-df-quickchart {\n",
              "      --bg-color: #3B4455;\n",
              "      --fill-color: #D2E3FC;\n",
              "      --hover-bg-color: #434B5C;\n",
              "      --hover-fill-color: #FFFFFF;\n",
              "      --disabled-bg-color: #3B4455;\n",
              "      --disabled-fill-color: #666;\n",
              "  }\n",
              "\n",
              "  .colab-df-quickchart {\n",
              "    background-color: var(--bg-color);\n",
              "    border: none;\n",
              "    border-radius: 50%;\n",
              "    cursor: pointer;\n",
              "    display: none;\n",
              "    fill: var(--fill-color);\n",
              "    height: 32px;\n",
              "    padding: 0;\n",
              "    width: 32px;\n",
              "  }\n",
              "\n",
              "  .colab-df-quickchart:hover {\n",
              "    background-color: var(--hover-bg-color);\n",
              "    box-shadow: 0 1px 2px rgba(60, 64, 67, 0.3), 0 1px 3px 1px rgba(60, 64, 67, 0.15);\n",
              "    fill: var(--button-hover-fill-color);\n",
              "  }\n",
              "\n",
              "  .colab-df-quickchart-complete:disabled,\n",
              "  .colab-df-quickchart-complete:disabled:hover {\n",
              "    background-color: var(--disabled-bg-color);\n",
              "    fill: var(--disabled-fill-color);\n",
              "    box-shadow: none;\n",
              "  }\n",
              "\n",
              "  .colab-df-spinner {\n",
              "    border: 2px solid var(--fill-color);\n",
              "    border-color: transparent;\n",
              "    border-bottom-color: var(--fill-color);\n",
              "    animation:\n",
              "      spin 1s steps(1) infinite;\n",
              "  }\n",
              "\n",
              "  @keyframes spin {\n",
              "    0% {\n",
              "      border-color: transparent;\n",
              "      border-bottom-color: var(--fill-color);\n",
              "      border-left-color: var(--fill-color);\n",
              "    }\n",
              "    20% {\n",
              "      border-color: transparent;\n",
              "      border-left-color: var(--fill-color);\n",
              "      border-top-color: var(--fill-color);\n",
              "    }\n",
              "    30% {\n",
              "      border-color: transparent;\n",
              "      border-left-color: var(--fill-color);\n",
              "      border-top-color: var(--fill-color);\n",
              "      border-right-color: var(--fill-color);\n",
              "    }\n",
              "    40% {\n",
              "      border-color: transparent;\n",
              "      border-right-color: var(--fill-color);\n",
              "      border-top-color: var(--fill-color);\n",
              "    }\n",
              "    60% {\n",
              "      border-color: transparent;\n",
              "      border-right-color: var(--fill-color);\n",
              "    }\n",
              "    80% {\n",
              "      border-color: transparent;\n",
              "      border-right-color: var(--fill-color);\n",
              "      border-bottom-color: var(--fill-color);\n",
              "    }\n",
              "    90% {\n",
              "      border-color: transparent;\n",
              "      border-bottom-color: var(--fill-color);\n",
              "    }\n",
              "  }\n",
              "</style>\n",
              "\n",
              "      <script>\n",
              "        async function quickchart(key) {\n",
              "          const quickchartButtonEl =\n",
              "            document.querySelector('#' + key + ' button');\n",
              "          quickchartButtonEl.disabled = true;  // To prevent multiple clicks.\n",
              "          quickchartButtonEl.classList.add('colab-df-spinner');\n",
              "          try {\n",
              "            const charts = await google.colab.kernel.invokeFunction(\n",
              "                'suggestCharts', [key], {});\n",
              "          } catch (error) {\n",
              "            console.error('Error during call to suggestCharts:', error);\n",
              "          }\n",
              "          quickchartButtonEl.classList.remove('colab-df-spinner');\n",
              "          quickchartButtonEl.classList.add('colab-df-quickchart-complete');\n",
              "        }\n",
              "        (() => {\n",
              "          let quickchartButtonEl =\n",
              "            document.querySelector('#df-61e67840-31d6-46db-81f5-691ed2c4bd07 button');\n",
              "          quickchartButtonEl.style.display =\n",
              "            google.colab.kernel.accessAllowed ? 'block' : 'none';\n",
              "        })();\n",
              "      </script>\n",
              "    </div>\n",
              "\n",
              "    </div>\n",
              "  </div>\n"
            ],
            "application/vnd.google.colaboratory.intrinsic+json": {
              "type": "dataframe",
              "variable_name": "built_up_areas",
              "summary": "{\n  \"name\": \"built_up_areas\",\n  \"rows\": 93,\n  \"fields\": [\n    {\n      \"column\": \"Unnamed: 0\",\n      \"properties\": {\n        \"dtype\": \"number\",\n        \"std\": 26,\n        \"min\": 0,\n        \"max\": 92,\n        \"num_unique_values\": 93,\n        \"samples\": [\n          40,\n          22,\n          55\n        ],\n        \"semantic_type\": \"\",\n        \"description\": \"\"\n      }\n    },\n    {\n      \"column\": \"GSSCODE\",\n      \"properties\": {\n        \"dtype\": \"string\",\n        \"num_unique_values\": 93,\n        \"samples\": [\n          \"E63012201\",\n          \"E63011885\",\n          \"E63013103\"\n        ],\n        \"semantic_type\": \"\",\n        \"description\": \"\"\n      }\n    },\n    {\n      \"column\": \"NAME1_TEXT\",\n      \"properties\": {\n        \"dtype\": \"string\",\n        \"num_unique_values\": 93,\n        \"samples\": [\n          \"Warden\",\n          \"Waltham Forest\",\n          \"Warnham\"\n        ],\n        \"semantic_type\": \"\",\n        \"description\": \"\"\n      }\n    },\n    {\n      \"column\": \"NAME1_LANGUAGE\",\n      \"properties\": {\n        \"dtype\": \"number\",\n        \"std\": null,\n        \"min\": null,\n        \"max\": null,\n        \"num_unique_values\": 0,\n        \"samples\": [],\n        \"semantic_type\": \"\",\n        \"description\": \"\"\n      }\n    },\n    {\n      \"column\": \"NAME2_TEXT\",\n      \"properties\": {\n        \"dtype\": \"number\",\n        \"std\": null,\n        \"min\": null,\n        \"max\": null,\n        \"num_unique_values\": 0,\n        \"samples\": [],\n        \"semantic_type\": \"\",\n        \"description\": \"\"\n      }\n    },\n    {\n      \"column\": \"NAME2_LANGUAGE\",\n      \"properties\": {\n        \"dtype\": \"number\",\n        \"std\": null,\n        \"min\": null,\n        \"max\": null,\n        \"num_unique_values\": 0,\n        \"samples\": [],\n        \"semantic_type\": \"\",\n        \"description\": \"\"\n      }\n    },\n    {\n      \"column\": \"AREAHECTARES\",\n      \"properties\": {\n        \"dtype\": \"number\",\n        \"std\": 731.2109651420988,\n        \"min\": 21.06,\n        \"max\": 4770.25,\n        \"num_unique_values\": 91,\n        \"samples\": [],\n        \"semantic_type\": \"\",\n        \"description\": \"\"\n      }\n    },\n    {\n      \"column\": \"GEOMETRY_AREA_M\",\n      \"properties\": {\n        \"dtype\": \"number\",\n        \"std\": 7312110,\n        \"min\": 210625,\n        \"max\": 47702500,\n        \"num_unique_values\": 91,\n        \"samples\": [],\n        \"semantic_type\": \"\",\n        \"description\": \"\"\n      }\n    },\n    {\n      \"column\": \"GEOMETRY\",\n      \"properties\": {\n        \"dtype\": \"string\",\n        \"num_unique_values\": 93,\n        \"samples\": [],\n        \"semantic_type\": \"\",\n        \"description\": \"\"\n      }\n    },\n    {\n      \"column\": \"GEOGRAPHY\",\n      \"properties\": {\n        \"dtype\": \"string\",\n        \"num_unique_values\": 93,\n        \"samples\": [],\n        \"semantic_type\": \"\",\n        \"description\": \"\"\n      }\n    }\n  ]\n}"
            }
          },
          "metadata": {},
          "execution_count": 38
        }
      ],
      "source": [
        "# Display the first 5 rows\n",
        "built_up_areas.head(5)"
      ]
    },
    {
      "cell_type": "markdown",
      "id": "ef852b5d-beee-4b64-b753-d27b3b4f9fa0",
      "metadata": {
        "collapsed": false,
        "name": "heading_coverage",
        "id": "ef852b5d-beee-4b64-b753-d27b3b4f9fa0"
      },
      "source": [
        "Next we need to join the two datasets together.  we need to join by the H3 index code.  Therefore, we need to split out all the towns by the same H3 index number.  You can use the function **H3_COVERAGE_STRINGS** for this"
      ]
    },
    {
      "cell_type": "code",
      "execution_count": 40,
      "id": "33705d3e-d7e2-4669-90c0-9e8ba1e79eec",
      "metadata": {
        "language": "python",
        "name": "coverage_built_up",
        "colab": {
          "base_uri": "https://localhost:8080/"
        },
        "id": "33705d3e-d7e2-4669-90c0-9e8ba1e79eec",
        "outputId": "4b528ab6-2b91-45f5-afa6-06314c9a7837"
      },
      "outputs": [
        {
          "output_type": "stream",
          "name": "stdout",
          "text": [
            "     GSSCODE    NAME1_TEXT               H3\n",
            "0  S45001606    Walkerburn              NaN\n",
            "1  E63008454  Walkeringham  881942a197fffff\n",
            "2  E63011204       Walkern  88194e48d5fffff\n",
            "3  E63007847    Walkington  88194058d3fffff\n",
            "4  E63008456      Wallasey  8819510e0bfffff\n",
            "5  E63008456      Wallasey  8819510e5dfffff\n",
            "6  E63008456      Wallasey  8819510e03fffff\n",
            "7  E63008456      Wallasey  8819510e1dfffff\n",
            "8  E63008456      Wallasey  8819510e07fffff\n",
            "9  E63008456      Wallasey  8819510e51fffff\n"
          ]
        }
      ],
      "source": [
        "def parse_geojson(geojson_str):\n",
        "    return json.loads(geojson_str)\n",
        "\n",
        "def geojson_to_h3shape(geojson_obj):\n",
        "    if geojson_obj['type'] == 'Polygon':\n",
        "        outer = [[lat, lon] for lon, lat in geojson_obj['coordinates'][0]]\n",
        "        holes = []\n",
        "        if len(geojson_obj['coordinates']) > 1:\n",
        "            for hole in geojson_obj['coordinates'][1:]:\n",
        "                holes.append([[lat, lon] for lon, lat in hole])\n",
        "        return LatLngPoly(outer, *holes)\n",
        "    elif geojson_obj['type'] == 'MultiPolygon':\n",
        "        polys = []\n",
        "        for poly_coords in geojson_obj['coordinates']:\n",
        "            outer = [[lat, lon] for lon, lat in poly_coords[0]]\n",
        "            holes = []\n",
        "            if len(poly_coords) > 1:\n",
        "                for hole in poly_coords[1:]:\n",
        "                    holes.append([[lat, lon] for lon, lat in hole])\n",
        "            polys.append(LatLngPoly(outer, *holes))\n",
        "        return LatLngMultiPoly(*polys)\n",
        "    else:\n",
        "        raise ValueError(f\"Unsupported geometry type: {geojson_obj['type']}\")\n",
        "\n",
        "def h3shape_to_cells(h3shape, resolution=8):\n",
        "    return list(h3.h3shape_to_cells(h3shape, resolution))\n",
        "\n",
        "built_up_areas['geojson'] = built_up_areas['GEOGRAPHY'].apply(parse_geojson)\n",
        "built_up_areas['h3shape'] = built_up_areas['geojson'].apply(geojson_to_h3shape)\n",
        "built_up_areas['H3'] = built_up_areas['h3shape'].apply(h3shape_to_cells)\n",
        "coverage = (\n",
        "    built_up_areas[['GSSCODE', 'NAME1_TEXT', 'H3']]\n",
        "    .explode('H3')\n",
        "    .reset_index(drop=True)\n",
        ")\n",
        "print(coverage.head(10))\n"
      ]
    },
    {
      "cell_type": "markdown",
      "source": [
        "You will note that there are multiple coverage strings per row.  We select the result which is returned as **VALUE** as well as all the original columns.  We will only select **GSSCODE** and **NAME1_TEXT**.  The Value Column is renamed as **H3**."
      ],
      "metadata": {
        "id": "VKtaKLXAjU45"
      },
      "id": "VKtaKLXAjU45"
    },
    {
      "cell_type": "code",
      "source": [
        "population_by_area = pd.merge(coverage, population_h3, on='H3', how='inner')"
      ],
      "metadata": {
        "id": "aXys7G6IfQO4"
      },
      "id": "aXys7G6IfQO4",
      "execution_count": 41,
      "outputs": []
    },
    {
      "cell_type": "markdown",
      "id": "4b751de9-422a-4197-bc0b-c45f356b0970",
      "metadata": {
        "collapsed": false,
        "name": "visualise_data",
        "id": "4b751de9-422a-4197-bc0b-c45f356b0970"
      },
      "source": [
        "## Visualising the data\n",
        "\n",
        "\n",
        "### Creating Filters\n",
        "\n",
        "Firstly, let's create a filters to the dataset.  It would be good to filter by urban name, body weight and sex.  This is where we create streamlit components.  We will create three drop downlists.  I have nested it inside a container with a pre defined height and chose to create the drop down lists in 3 columns.\n",
        "\n",
        "Each select box is populated with distinct values from the newly created dataframe."
      ]
    },
    {
      "cell_type": "code",
      "execution_count": 42,
      "id": "f206556b-5ed1-4e3d-8f86-1da1b01ff2e1",
      "metadata": {
        "language": "python",
        "name": "select_boxes",
        "colab": {
          "base_uri": "https://localhost:8080/"
        },
        "id": "f206556b-5ed1-4e3d-8f86-1da1b01ff2e1",
        "outputId": "079de1a2-27d4-4632-875c-586445b2a4bf"
      },
      "outputs": [
        {
          "output_type": "stream",
          "name": "stderr",
          "text": [
            "2025-05-26 21:30:53.415 WARNING streamlit.runtime.scriptrunner_utils.script_run_context: Thread 'MainThread': missing ScriptRunContext! This warning can be ignored when running in bare mode.\n",
            "2025-05-26 21:30:53.512 \n",
            "  \u001b[33m\u001b[1mWarning:\u001b[0m to view this Streamlit app on a browser, run it with the following\n",
            "  command:\n",
            "\n",
            "    streamlit run /usr/local/lib/python3.11/dist-packages/colab_kernel_launcher.py [ARGUMENTS]\n",
            "2025-05-26 21:30:53.513 Thread 'MainThread': missing ScriptRunContext! This warning can be ignored when running in bare mode.\n",
            "2025-05-26 21:30:53.516 Thread 'MainThread': missing ScriptRunContext! This warning can be ignored when running in bare mode.\n",
            "2025-05-26 21:30:53.519 Thread 'MainThread': missing ScriptRunContext! This warning can be ignored when running in bare mode.\n",
            "2025-05-26 21:30:53.520 Thread 'MainThread': missing ScriptRunContext! This warning can be ignored when running in bare mode.\n",
            "2025-05-26 21:30:53.521 Thread 'MainThread': missing ScriptRunContext! This warning can be ignored when running in bare mode.\n",
            "2025-05-26 21:30:53.522 Thread 'MainThread': missing ScriptRunContext! This warning can be ignored when running in bare mode.\n",
            "2025-05-26 21:30:53.524 Thread 'MainThread': missing ScriptRunContext! This warning can be ignored when running in bare mode.\n",
            "2025-05-26 21:30:53.526 Thread 'MainThread': missing ScriptRunContext! This warning can be ignored when running in bare mode.\n",
            "2025-05-26 21:30:53.528 Thread 'MainThread': missing ScriptRunContext! This warning can be ignored when running in bare mode.\n",
            "2025-05-26 21:30:53.529 Session state does not function when running a script without `streamlit run`\n",
            "2025-05-26 21:30:53.530 Thread 'MainThread': missing ScriptRunContext! This warning can be ignored when running in bare mode.\n",
            "2025-05-26 21:30:53.532 Thread 'MainThread': missing ScriptRunContext! This warning can be ignored when running in bare mode.\n",
            "2025-05-26 21:30:53.534 Thread 'MainThread': missing ScriptRunContext! This warning can be ignored when running in bare mode.\n",
            "2025-05-26 21:30:53.536 Thread 'MainThread': missing ScriptRunContext! This warning can be ignored when running in bare mode.\n",
            "2025-05-26 21:30:53.538 Thread 'MainThread': missing ScriptRunContext! This warning can be ignored when running in bare mode.\n",
            "2025-05-26 21:30:53.539 Thread 'MainThread': missing ScriptRunContext! This warning can be ignored when running in bare mode.\n",
            "2025-05-26 21:30:53.540 Thread 'MainThread': missing ScriptRunContext! This warning can be ignored when running in bare mode.\n",
            "2025-05-26 21:30:53.542 Thread 'MainThread': missing ScriptRunContext! This warning can be ignored when running in bare mode.\n",
            "2025-05-26 21:30:53.543 Thread 'MainThread': missing ScriptRunContext! This warning can be ignored when running in bare mode.\n",
            "2025-05-26 21:30:53.544 Thread 'MainThread': missing ScriptRunContext! This warning can be ignored when running in bare mode.\n",
            "2025-05-26 21:30:53.547 Thread 'MainThread': missing ScriptRunContext! This warning can be ignored when running in bare mode.\n",
            "2025-05-26 21:30:53.548 Thread 'MainThread': missing ScriptRunContext! This warning can be ignored when running in bare mode.\n",
            "2025-05-26 21:30:53.550 Thread 'MainThread': missing ScriptRunContext! This warning can be ignored when running in bare mode.\n",
            "2025-05-26 21:30:53.551 Thread 'MainThread': missing ScriptRunContext! This warning can be ignored when running in bare mode.\n",
            "2025-05-26 21:30:53.607 Thread 'MainThread': missing ScriptRunContext! This warning can be ignored when running in bare mode.\n",
            "2025-05-26 21:30:53.608 Thread 'MainThread': missing ScriptRunContext! This warning can be ignored when running in bare mode.\n"
          ]
        },
        {
          "output_type": "execute_result",
          "data": {
            "text/plain": [
              "DeltaGenerator()"
            ]
          },
          "metadata": {},
          "execution_count": 42
        }
      ],
      "source": [
        "import streamlit as st\n",
        "\n",
        "st.title('POPULATION HEALTH BY URBAN AREA')\n",
        "\n",
        "# Filters\n",
        "col1, col2, col3 = st.columns(3)\n",
        "with col1:\n",
        "    urban_area = st.selectbox('Select Urban Area:', population_by_area['NAME1_TEXT'].unique())\n",
        "with col2:\n",
        "    body_weight = st.selectbox('Select Body Weight:', population_by_area['BODY_WEIGHT'].unique())\n",
        "with col3:\n",
        "    SEX = st.selectbox('Select Gender:', population_by_area['SEX'].unique())\n",
        "\n",
        "df = population_by_area[\n",
        "    (population_by_area['NAME1_TEXT'] == urban_area) &\n",
        "    (population_by_area['BODY_WEIGHT'] == body_weight) &\n",
        "    (population_by_area['SEX'] == SEX)\n",
        "]\n",
        "\n",
        "st.dataframe(df)"
      ]
    },
    {
      "cell_type": "markdown",
      "id": "267f382b-2903-4944-9da8-7241d1f3abb1",
      "metadata": {
        "collapsed": false,
        "name": "create_metrics",
        "id": "267f382b-2903-4944-9da8-7241d1f3abb1"
      },
      "source": [
        "### Create Metrics\n",
        "Now we have fitered to the right areas, let's now summarize the results and create metrics.  Again, used the columns to lay out all the metrics accross the page"
      ]
    },
    {
      "cell_type": "code",
      "execution_count": 43,
      "id": "82daff11-f965-4659-9be4-0b3396a509f6",
      "metadata": {
        "language": "python",
        "name": "cell1",
        "colab": {
          "base_uri": "https://localhost:8080/"
        },
        "id": "82daff11-f965-4659-9be4-0b3396a509f6",
        "outputId": "d406b099-9fe2-42a2-c692-229f66ff8238"
      },
      "outputs": [
        {
          "output_type": "stream",
          "name": "stderr",
          "text": [
            "2025-05-26 21:31:01.355 Thread 'MainThread': missing ScriptRunContext! This warning can be ignored when running in bare mode.\n",
            "2025-05-26 21:31:01.356 Thread 'MainThread': missing ScriptRunContext! This warning can be ignored when running in bare mode.\n",
            "2025-05-26 21:31:01.357 Thread 'MainThread': missing ScriptRunContext! This warning can be ignored when running in bare mode.\n",
            "2025-05-26 21:31:01.359 Thread 'MainThread': missing ScriptRunContext! This warning can be ignored when running in bare mode.\n",
            "2025-05-26 21:31:01.360 Thread 'MainThread': missing ScriptRunContext! This warning can be ignored when running in bare mode.\n",
            "2025-05-26 21:31:01.360 Thread 'MainThread': missing ScriptRunContext! This warning can be ignored when running in bare mode.\n",
            "2025-05-26 21:31:01.361 Thread 'MainThread': missing ScriptRunContext! This warning can be ignored when running in bare mode.\n",
            "2025-05-26 21:31:01.362 Thread 'MainThread': missing ScriptRunContext! This warning can be ignored when running in bare mode.\n",
            "2025-05-26 21:31:01.365 Thread 'MainThread': missing ScriptRunContext! This warning can be ignored when running in bare mode.\n",
            "2025-05-26 21:31:01.366 Thread 'MainThread': missing ScriptRunContext! This warning can be ignored when running in bare mode.\n",
            "2025-05-26 21:31:01.367 Thread 'MainThread': missing ScriptRunContext! This warning can be ignored when running in bare mode.\n",
            "2025-05-26 21:31:01.370 Thread 'MainThread': missing ScriptRunContext! This warning can be ignored when running in bare mode.\n",
            "2025-05-26 21:31:01.371 Thread 'MainThread': missing ScriptRunContext! This warning can be ignored when running in bare mode.\n",
            "2025-05-26 21:31:01.372 Thread 'MainThread': missing ScriptRunContext! This warning can be ignored when running in bare mode.\n",
            "2025-05-26 21:31:01.373 Thread 'MainThread': missing ScriptRunContext! This warning can be ignored when running in bare mode.\n",
            "2025-05-26 21:31:01.374 Thread 'MainThread': missing ScriptRunContext! This warning can be ignored when running in bare mode.\n",
            "2025-05-26 21:31:01.375 Thread 'MainThread': missing ScriptRunContext! This warning can be ignored when running in bare mode.\n",
            "2025-05-26 21:31:01.376 Thread 'MainThread': missing ScriptRunContext! This warning can be ignored when running in bare mode.\n",
            "2025-05-26 21:31:01.378 Thread 'MainThread': missing ScriptRunContext! This warning can be ignored when running in bare mode.\n"
          ]
        },
        {
          "output_type": "execute_result",
          "data": {
            "text/plain": [
              "DeltaGenerator()"
            ]
          },
          "metadata": {},
          "execution_count": 43
        }
      ],
      "source": [
        "\n",
        "# Metrics\n",
        "pop_metrics = df.agg({\n",
        "    'TOTAL_POPULATION':'sum',\n",
        "    'CANCER':'sum',\n",
        "    'DIABETES':'sum',\n",
        "    'COPD':'sum',\n",
        "    'ASTHMA':'sum',\n",
        "    'HYPERTENSION':'sum'\n",
        "})\n",
        "\n",
        "col1, col2, col3, col4, col5, col6 = st.columns(6)\n",
        "col1.metric('Total Population', pop_metrics['TOTAL_POPULATION'])\n",
        "col2.metric('Cancer Sufferers', pop_metrics['CANCER'])\n",
        "col3.metric('Diabetics', pop_metrics['DIABETES'])\n",
        "col4.metric('COPD Sufferers', pop_metrics['COPD'])\n",
        "col5.metric('Asthmatics', pop_metrics['ASTHMA'])\n",
        "col6.metric('Hypertension', pop_metrics['HYPERTENSION'])"
      ]
    },
    {
      "cell_type": "markdown",
      "id": "9e0943f6-2568-4d4b-b2c7-72528901756d",
      "metadata": {
        "collapsed": false,
        "name": "create_map",
        "id": "9e0943f6-2568-4d4b-b2c7-72528901756d"
      },
      "source": [
        "### Creating a map\n",
        "\n",
        "You will be creating a H3 map to visualise the hexagons which can filter by each extent area.  NB the color is in RGB format, you will need to manipulate the RGB based on the fields in the data.  This example is using the total population field.  Further calculations might need to be considered to have further control of how the colours are presented."
      ]
    },
    {
      "cell_type": "code",
      "execution_count": 44,
      "id": "8c107336-b4fd-4e70-a248-a61f4f9c56ea",
      "metadata": {
        "language": "python",
        "name": "visualise_h3",
        "colab": {
          "base_uri": "https://localhost:8080/",
          "height": 70
        },
        "id": "8c107336-b4fd-4e70-a248-a61f4f9c56ea",
        "outputId": "31929bc9-acb4-4d33-eb6b-0a98b0dc4da7"
      },
      "outputs": [
        {
          "output_type": "stream",
          "name": "stderr",
          "text": [
            "2025-05-26 21:31:09.058 Thread 'MainThread': missing ScriptRunContext! This warning can be ignored when running in bare mode.\n",
            "2025-05-26 21:31:09.066 Thread 'MainThread': missing ScriptRunContext! This warning can be ignored when running in bare mode.\n",
            "2025-05-26 21:31:09.069 Thread 'MainThread': missing ScriptRunContext! This warning can be ignored when running in bare mode.\n"
          ]
        }
      ],
      "source": [
        "# Map\n",
        "if not df.empty:\n",
        "    LAT = df['LAT'].mean()\n",
        "    LON = df['LON'].mean()\n",
        "    layer = pdk.Layer(\n",
        "        \"H3HexagonLayer\",\n",
        "        df,\n",
        "        pickable=True,\n",
        "        stroked=True,\n",
        "        filled=True,\n",
        "        extruded=False,\n",
        "        get_hexagon=\"H3\",\n",
        "        get_fill_color=\"[255 - TOTAL_POPULATION, 255-TOTAL_POPULATION, 255]\",\n",
        "        get_line_color=[1, 1, 1],\n",
        "        line_width_min_pixels=1,\n",
        "    )\n",
        "    view_state = pdk.ViewState(latitude=LAT, longitude=LON, zoom=12, bearing=0, pitch=0)\n",
        "    r = pdk.Deck(\n",
        "        map_style=None,\n",
        "        layers=[layer],\n",
        "        initial_view_state=view_state,\n",
        "        tooltip={\n",
        "            \"html\": \"Total Population: {TOTAL_POPULATION}<br>\"\n",
        "                    \"Total Cancer: {CANCER}<br>\"\n",
        "                    \"Total Diabetes: {DIABETES}<br>\"\n",
        "                    \"Total COPD: {COPD}<br>\"\n",
        "                    \"Total Hypertension: {HYPERTENSION}\"\n",
        "        }\n",
        "    )\n",
        "    st.pydeck_chart(r)"
      ]
    },
    {
      "cell_type": "markdown",
      "id": "f1a53eae-9a77-41a0-940c-538d16f289bc",
      "metadata": {
        "collapsed": false,
        "name": "switch_to_streamlit",
        "id": "f1a53eae-9a77-41a0-940c-538d16f289bc"
      },
      "source": [
        "# Switching to Streamlit to view the dashboard\n",
        "\n",
        "##Option 1: You can use pyngrok to tunnel the Streamlit app from Colab to the web.\n",
        "This is not for production, but good for demos.\n",
        "\n",
        "After running, click the printed URL to view your app."
      ]
    },
    {
      "cell_type": "code",
      "source": [
        "!pip install streamlit pyngrok\n",
        "\n",
        "import os\n",
        "from pyngrok import ngrok\n",
        "\n",
        "# Write your Streamlit script to a file\n",
        "with open('app.py', 'w') as f:\n",
        "    f.write(\"\"\"\n",
        "import streamlit as st\n",
        "st.title(\"Hello Streamlit from Colab!\")\n",
        "\"\"\")  # Replace with your actual script content\n",
        "\n",
        "# Start Streamlit in the background\n",
        "os.system('streamlit run app.py &')\n",
        "\n",
        "# Get a public URL via ngrok\n",
        "public_url = ngrok.connect(port='8501')\n",
        "print('Streamlit app available at:', public_url)\n"
      ],
      "metadata": {
        "colab": {
          "base_uri": "https://localhost:8080/",
          "height": 1000
        },
        "id": "886f1xk9hjjE",
        "outputId": "0e2c9439-1428-42d9-c340-d0de6690c5d1"
      },
      "id": "886f1xk9hjjE",
      "execution_count": 47,
      "outputs": [
        {
          "output_type": "stream",
          "name": "stdout",
          "text": [
            "Requirement already satisfied: streamlit in /usr/local/lib/python3.11/dist-packages (1.45.1)\n",
            "Requirement already satisfied: pyngrok in /usr/local/lib/python3.11/dist-packages (7.2.8)\n",
            "Requirement already satisfied: altair<6,>=4.0 in /usr/local/lib/python3.11/dist-packages (from streamlit) (5.5.0)\n",
            "Requirement already satisfied: blinker<2,>=1.5.0 in /usr/local/lib/python3.11/dist-packages (from streamlit) (1.9.0)\n",
            "Requirement already satisfied: cachetools<6,>=4.0 in /usr/local/lib/python3.11/dist-packages (from streamlit) (5.5.2)\n",
            "Requirement already satisfied: click<9,>=7.0 in /usr/local/lib/python3.11/dist-packages (from streamlit) (8.2.0)\n",
            "Requirement already satisfied: numpy<3,>=1.23 in /usr/local/lib/python3.11/dist-packages (from streamlit) (2.0.2)\n",
            "Requirement already satisfied: packaging<25,>=20 in /usr/local/lib/python3.11/dist-packages (from streamlit) (24.2)\n",
            "Requirement already satisfied: pandas<3,>=1.4.0 in /usr/local/lib/python3.11/dist-packages (from streamlit) (2.2.2)\n",
            "Requirement already satisfied: pillow<12,>=7.1.0 in /usr/local/lib/python3.11/dist-packages (from streamlit) (11.2.1)\n",
            "Requirement already satisfied: protobuf<7,>=3.20 in /usr/local/lib/python3.11/dist-packages (from streamlit) (5.29.4)\n",
            "Requirement already satisfied: pyarrow>=7.0 in /usr/local/lib/python3.11/dist-packages (from streamlit) (18.1.0)\n",
            "Requirement already satisfied: requests<3,>=2.27 in /usr/local/lib/python3.11/dist-packages (from streamlit) (2.32.3)\n",
            "Requirement already satisfied: tenacity<10,>=8.1.0 in /usr/local/lib/python3.11/dist-packages (from streamlit) (9.1.2)\n",
            "Requirement already satisfied: toml<2,>=0.10.1 in /usr/local/lib/python3.11/dist-packages (from streamlit) (0.10.2)\n",
            "Requirement already satisfied: typing-extensions<5,>=4.4.0 in /usr/local/lib/python3.11/dist-packages (from streamlit) (4.13.2)\n",
            "Requirement already satisfied: watchdog<7,>=2.1.5 in /usr/local/lib/python3.11/dist-packages (from streamlit) (6.0.0)\n",
            "Requirement already satisfied: gitpython!=3.1.19,<4,>=3.0.7 in /usr/local/lib/python3.11/dist-packages (from streamlit) (3.1.44)\n",
            "Requirement already satisfied: pydeck<1,>=0.8.0b4 in /usr/local/lib/python3.11/dist-packages (from streamlit) (0.9.1)\n",
            "Requirement already satisfied: tornado<7,>=6.0.3 in /usr/local/lib/python3.11/dist-packages (from streamlit) (6.4.2)\n",
            "Requirement already satisfied: PyYAML>=5.1 in /usr/local/lib/python3.11/dist-packages (from pyngrok) (6.0.2)\n",
            "Requirement already satisfied: jinja2 in /usr/local/lib/python3.11/dist-packages (from altair<6,>=4.0->streamlit) (3.1.6)\n",
            "Requirement already satisfied: jsonschema>=3.0 in /usr/local/lib/python3.11/dist-packages (from altair<6,>=4.0->streamlit) (4.23.0)\n",
            "Requirement already satisfied: narwhals>=1.14.2 in /usr/local/lib/python3.11/dist-packages (from altair<6,>=4.0->streamlit) (1.39.0)\n",
            "Requirement already satisfied: gitdb<5,>=4.0.1 in /usr/local/lib/python3.11/dist-packages (from gitpython!=3.1.19,<4,>=3.0.7->streamlit) (4.0.12)\n",
            "Requirement already satisfied: python-dateutil>=2.8.2 in /usr/local/lib/python3.11/dist-packages (from pandas<3,>=1.4.0->streamlit) (2.9.0.post0)\n",
            "Requirement already satisfied: pytz>=2020.1 in /usr/local/lib/python3.11/dist-packages (from pandas<3,>=1.4.0->streamlit) (2025.2)\n",
            "Requirement already satisfied: tzdata>=2022.7 in /usr/local/lib/python3.11/dist-packages (from pandas<3,>=1.4.0->streamlit) (2025.2)\n",
            "Requirement already satisfied: charset-normalizer<4,>=2 in /usr/local/lib/python3.11/dist-packages (from requests<3,>=2.27->streamlit) (3.4.2)\n",
            "Requirement already satisfied: idna<4,>=2.5 in /usr/local/lib/python3.11/dist-packages (from requests<3,>=2.27->streamlit) (3.10)\n",
            "Requirement already satisfied: urllib3<3,>=1.21.1 in /usr/local/lib/python3.11/dist-packages (from requests<3,>=2.27->streamlit) (2.4.0)\n",
            "Requirement already satisfied: certifi>=2017.4.17 in /usr/local/lib/python3.11/dist-packages (from requests<3,>=2.27->streamlit) (2025.4.26)\n",
            "Requirement already satisfied: smmap<6,>=3.0.1 in /usr/local/lib/python3.11/dist-packages (from gitdb<5,>=4.0.1->gitpython!=3.1.19,<4,>=3.0.7->streamlit) (5.0.2)\n",
            "Requirement already satisfied: MarkupSafe>=2.0 in /usr/local/lib/python3.11/dist-packages (from jinja2->altair<6,>=4.0->streamlit) (3.0.2)\n",
            "Requirement already satisfied: attrs>=22.2.0 in /usr/local/lib/python3.11/dist-packages (from jsonschema>=3.0->altair<6,>=4.0->streamlit) (25.3.0)\n",
            "Requirement already satisfied: jsonschema-specifications>=2023.03.6 in /usr/local/lib/python3.11/dist-packages (from jsonschema>=3.0->altair<6,>=4.0->streamlit) (2025.4.1)\n",
            "Requirement already satisfied: referencing>=0.28.4 in /usr/local/lib/python3.11/dist-packages (from jsonschema>=3.0->altair<6,>=4.0->streamlit) (0.36.2)\n",
            "Requirement already satisfied: rpds-py>=0.7.1 in /usr/local/lib/python3.11/dist-packages (from jsonschema>=3.0->altair<6,>=4.0->streamlit) (0.24.0)\n",
            "Requirement already satisfied: six>=1.5 in /usr/local/lib/python3.11/dist-packages (from python-dateutil>=2.8.2->pandas<3,>=1.4.0->streamlit) (1.17.0)\n"
          ]
        },
        {
          "output_type": "stream",
          "name": "stderr",
          "text": [
            "ERROR:pyngrok.process.ngrok:t=2025-05-26T21:38:42+0000 lvl=eror msg=\"failed to reconnect session\" obj=tunnels.session err=\"authentication failed: Usage of ngrok requires a verified account and authtoken.\\n\\nSign up for an account: https://dashboard.ngrok.com/signup\\nInstall your authtoken: https://dashboard.ngrok.com/get-started/your-authtoken\\r\\n\\r\\nERR_NGROK_4018\\r\\n\"\n",
            "ERROR:pyngrok.process.ngrok:t=2025-05-26T21:38:42+0000 lvl=eror msg=\"session closing\" obj=tunnels.session err=\"authentication failed: Usage of ngrok requires a verified account and authtoken.\\n\\nSign up for an account: https://dashboard.ngrok.com/signup\\nInstall your authtoken: https://dashboard.ngrok.com/get-started/your-authtoken\\r\\n\\r\\nERR_NGROK_4018\\r\\n\"\n",
            "ERROR:pyngrok.process.ngrok:t=2025-05-26T21:38:42+0000 lvl=eror msg=\"terminating with error\" obj=app err=\"authentication failed: Usage of ngrok requires a verified account and authtoken.\\n\\nSign up for an account: https://dashboard.ngrok.com/signup\\nInstall your authtoken: https://dashboard.ngrok.com/get-started/your-authtoken\\r\\n\\r\\nERR_NGROK_4018\\r\\n\"\n",
            "CRITICAL:pyngrok.process.ngrok:t=2025-05-26T21:38:42+0000 lvl=crit msg=\"command failed\" err=\"authentication failed: Usage of ngrok requires a verified account and authtoken.\\n\\nSign up for an account: https://dashboard.ngrok.com/signup\\nInstall your authtoken: https://dashboard.ngrok.com/get-started/your-authtoken\\r\\n\\r\\nERR_NGROK_4018\\r\\n\"\n"
          ]
        },
        {
          "output_type": "error",
          "ename": "PyngrokNgrokError",
          "evalue": "The ngrok process errored on start: authentication failed: Usage of ngrok requires a verified account and authtoken.\\n\\nSign up for an account: https://dashboard.ngrok.com/signup\\nInstall your authtoken: https://dashboard.ngrok.com/get-started/your-authtoken\\r\\n\\r\\nERR_NGROK_4018\\r\\n.",
          "traceback": [
            "\u001b[0;31m---------------------------------------------------------------------------\u001b[0m",
            "\u001b[0;31mPyngrokNgrokError\u001b[0m                         Traceback (most recent call last)",
            "\u001b[0;32m<ipython-input-47-a1a7f899fc9b>\u001b[0m in \u001b[0;36m<cell line: 0>\u001b[0;34m()\u001b[0m\n\u001b[1;32m     15\u001b[0m \u001b[0;34m\u001b[0m\u001b[0m\n\u001b[1;32m     16\u001b[0m \u001b[0;31m# Get a public URL via ngrok\u001b[0m\u001b[0;34m\u001b[0m\u001b[0;34m\u001b[0m\u001b[0m\n\u001b[0;32m---> 17\u001b[0;31m \u001b[0mpublic_url\u001b[0m \u001b[0;34m=\u001b[0m \u001b[0mngrok\u001b[0m\u001b[0;34m.\u001b[0m\u001b[0mconnect\u001b[0m\u001b[0;34m(\u001b[0m\u001b[0mport\u001b[0m\u001b[0;34m=\u001b[0m\u001b[0;34m'8501'\u001b[0m\u001b[0;34m)\u001b[0m\u001b[0;34m\u001b[0m\u001b[0;34m\u001b[0m\u001b[0m\n\u001b[0m\u001b[1;32m     18\u001b[0m \u001b[0mprint\u001b[0m\u001b[0;34m(\u001b[0m\u001b[0;34m'Streamlit app available at:'\u001b[0m\u001b[0;34m,\u001b[0m \u001b[0mpublic_url\u001b[0m\u001b[0;34m)\u001b[0m\u001b[0;34m\u001b[0m\u001b[0;34m\u001b[0m\u001b[0m\n",
            "\u001b[0;32m/usr/local/lib/python3.11/dist-packages/pyngrok/ngrok.py\u001b[0m in \u001b[0;36mconnect\u001b[0;34m(addr, proto, name, pyngrok_config, **options)\u001b[0m\n\u001b[1;32m    383\u001b[0m     \u001b[0mlogger\u001b[0m\u001b[0;34m.\u001b[0m\u001b[0minfo\u001b[0m\u001b[0;34m(\u001b[0m\u001b[0;34mf\"Opening tunnel named: {name}\"\u001b[0m\u001b[0;34m)\u001b[0m\u001b[0;34m\u001b[0m\u001b[0;34m\u001b[0m\u001b[0m\n\u001b[1;32m    384\u001b[0m \u001b[0;34m\u001b[0m\u001b[0m\n\u001b[0;32m--> 385\u001b[0;31m     \u001b[0mapi_url\u001b[0m \u001b[0;34m=\u001b[0m \u001b[0mget_ngrok_process\u001b[0m\u001b[0;34m(\u001b[0m\u001b[0mpyngrok_config\u001b[0m\u001b[0;34m)\u001b[0m\u001b[0;34m.\u001b[0m\u001b[0mapi_url\u001b[0m\u001b[0;34m\u001b[0m\u001b[0;34m\u001b[0m\u001b[0m\n\u001b[0m\u001b[1;32m    386\u001b[0m \u001b[0;34m\u001b[0m\u001b[0m\n\u001b[1;32m    387\u001b[0m     \u001b[0mlogger\u001b[0m\u001b[0;34m.\u001b[0m\u001b[0mdebug\u001b[0m\u001b[0;34m(\u001b[0m\u001b[0;34mf\"Creating tunnel with options: {options}\"\u001b[0m\u001b[0;34m)\u001b[0m\u001b[0;34m\u001b[0m\u001b[0;34m\u001b[0m\u001b[0m\n",
            "\u001b[0;32m/usr/local/lib/python3.11/dist-packages/pyngrok/ngrok.py\u001b[0m in \u001b[0;36mget_ngrok_process\u001b[0;34m(pyngrok_config)\u001b[0m\n\u001b[1;32m    201\u001b[0m     \u001b[0minstall_ngrok\u001b[0m\u001b[0;34m(\u001b[0m\u001b[0mpyngrok_config\u001b[0m\u001b[0;34m)\u001b[0m\u001b[0;34m\u001b[0m\u001b[0;34m\u001b[0m\u001b[0m\n\u001b[1;32m    202\u001b[0m \u001b[0;34m\u001b[0m\u001b[0m\n\u001b[0;32m--> 203\u001b[0;31m     \u001b[0;32mreturn\u001b[0m \u001b[0mprocess\u001b[0m\u001b[0;34m.\u001b[0m\u001b[0mget_process\u001b[0m\u001b[0;34m(\u001b[0m\u001b[0mpyngrok_config\u001b[0m\u001b[0;34m)\u001b[0m\u001b[0;34m\u001b[0m\u001b[0;34m\u001b[0m\u001b[0m\n\u001b[0m\u001b[1;32m    204\u001b[0m \u001b[0;34m\u001b[0m\u001b[0m\n\u001b[1;32m    205\u001b[0m \u001b[0;34m\u001b[0m\u001b[0m\n",
            "\u001b[0;32m/usr/local/lib/python3.11/dist-packages/pyngrok/process.py\u001b[0m in \u001b[0;36mget_process\u001b[0;34m(pyngrok_config)\u001b[0m\n\u001b[1;32m    268\u001b[0m         \u001b[0;32mreturn\u001b[0m \u001b[0m_current_processes\u001b[0m\u001b[0;34m[\u001b[0m\u001b[0mpyngrok_config\u001b[0m\u001b[0;34m.\u001b[0m\u001b[0mngrok_path\u001b[0m\u001b[0;34m]\u001b[0m\u001b[0;34m\u001b[0m\u001b[0;34m\u001b[0m\u001b[0m\n\u001b[1;32m    269\u001b[0m \u001b[0;34m\u001b[0m\u001b[0m\n\u001b[0;32m--> 270\u001b[0;31m     \u001b[0;32mreturn\u001b[0m \u001b[0m_start_process\u001b[0m\u001b[0;34m(\u001b[0m\u001b[0mpyngrok_config\u001b[0m\u001b[0;34m)\u001b[0m\u001b[0;34m\u001b[0m\u001b[0;34m\u001b[0m\u001b[0m\n\u001b[0m\u001b[1;32m    271\u001b[0m \u001b[0;34m\u001b[0m\u001b[0m\n\u001b[1;32m    272\u001b[0m \u001b[0;34m\u001b[0m\u001b[0m\n",
            "\u001b[0;32m/usr/local/lib/python3.11/dist-packages/pyngrok/process.py\u001b[0m in \u001b[0;36m_start_process\u001b[0;34m(pyngrok_config)\u001b[0m\n\u001b[1;32m    445\u001b[0m \u001b[0;34m\u001b[0m\u001b[0m\n\u001b[1;32m    446\u001b[0m         \u001b[0;32mif\u001b[0m \u001b[0mngrok_process\u001b[0m\u001b[0;34m.\u001b[0m\u001b[0mstartup_error\u001b[0m \u001b[0;32mis\u001b[0m \u001b[0;32mnot\u001b[0m \u001b[0;32mNone\u001b[0m\u001b[0;34m:\u001b[0m\u001b[0;34m\u001b[0m\u001b[0;34m\u001b[0m\u001b[0m\n\u001b[0;32m--> 447\u001b[0;31m             raise PyngrokNgrokError(f\"The ngrok process errored on start: {ngrok_process.startup_error}.\",\n\u001b[0m\u001b[1;32m    448\u001b[0m                                     \u001b[0mngrok_process\u001b[0m\u001b[0;34m.\u001b[0m\u001b[0mlogs\u001b[0m\u001b[0;34m,\u001b[0m\u001b[0;34m\u001b[0m\u001b[0;34m\u001b[0m\u001b[0m\n\u001b[1;32m    449\u001b[0m                                     ngrok_process.startup_error)\n",
            "\u001b[0;31mPyngrokNgrokError\u001b[0m: The ngrok process errored on start: authentication failed: Usage of ngrok requires a verified account and authtoken.\\n\\nSign up for an account: https://dashboard.ngrok.com/signup\\nInstall your authtoken: https://dashboard.ngrok.com/get-started/your-authtoken\\r\\n\\r\\nERR_NGROK_4018\\r\\n."
          ]
        }
      ]
    },
    {
      "cell_type": "markdown",
      "source": [
        "## Option 2 - If You’re On Your Own Computer\n",
        "\n",
        "Download your app script (e.g., app.py) to your computer.\n",
        "\n",
        "Open a terminal/command prompt on your computer.\n",
        "\n",
        "Navigate to the folder with app.py.\n",
        "\n",
        "\n",
        "Run:\n",
        "\n",
        "```\n",
        "#bash\n",
        "streamlit run app.py\n",
        "```\n",
        "\n",
        "Visit http://localhost:8501 in your browser."
      ],
      "metadata": {
        "id": "Vtrn-zXCiSoh"
      },
      "id": "Vtrn-zXCiSoh"
    }
  ],
  "metadata": {
    "kernelspec": {
      "display_name": "Streamlit Notebook",
      "name": "streamlit"
    },
    "lastEditStatus": {
      "authorEmail": "becky.oconnor@snowflake.com",
      "authorId": "6511322715509",
      "authorName": "USER",
      "lastEditTime": 1744200603393,
      "notebookId": "e3of3vxbrijk62gdqn2z",
      "sessionId": "7e8b5e9a-7f06-4500-94a9-26389c2b67bb"
    },
    "colab": {
      "provenance": [],
      "include_colab_link": true
    }
  },
  "nbformat": 4,
  "nbformat_minor": 5
}